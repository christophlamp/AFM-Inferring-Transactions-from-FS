{
 "cells": [
  {
   "cell_type": "code",
   "execution_count": 1,
   "metadata": {
    "collapsed": false
   },
   "outputs": [
    {
     "name": "stdout",
     "output_type": "stream",
     "text": [
      "\u001b[H\u001b[2J"
     ]
    }
   ],
   "source": [
    "clear"
   ]
  },
  {
   "cell_type": "code",
   "execution_count": 2,
   "metadata": {
    "collapsed": true
   },
   "outputs": [],
   "source": [
    "import os"
   ]
  },
  {
   "cell_type": "code",
   "execution_count": 3,
   "metadata": {
    "collapsed": false
   },
   "outputs": [
    {
     "data": {
      "text/plain": [
       "'/Users/chris/Desktop/Dropbox/MasterThesisAFM/Coding'"
      ]
     },
     "execution_count": 3,
     "metadata": {},
     "output_type": "execute_result"
    }
   ],
   "source": [
    "os.chdir(\"/Users/chris/Desktop/Dropbox/MasterThesisAFM/Coding\")\n",
    "os.getcwd()"
   ]
  },
  {
   "cell_type": "code",
   "execution_count": 4,
   "metadata": {
    "collapsed": true
   },
   "outputs": [],
   "source": [
    "import csv"
   ]
  },
  {
   "cell_type": "code",
   "execution_count": 5,
   "metadata": {
    "collapsed": false
   },
   "outputs": [],
   "source": [
    "#CREATE DICTIONARY FOR NODES\n",
    "def reader(filename):\n",
    "    for (lineno, line) in enumerate(open(filename)):\n",
    "        if lineno > 0: # skip header\n",
    "            yield line\n",
    "\n",
    "filename = \"case1_nodes.csv\"\n",
    "(l_nodes, nodenames, beg, end, change) = zip(*( row for row in csv.reader(reader(filename))))\n",
    "\n",
    "d_nodes = dict(zip(l_nodes, change))\n",
    "\n",
    "#for k, v in d_nodes.items():\n",
    "    #print(k,\" \",v)\n",
    "\n"
   ]
  },
  {
   "cell_type": "code",
   "execution_count": 6,
   "metadata": {
    "collapsed": false
   },
   "outputs": [],
   "source": [
    "#{k:int(v) for k, v in dict_nodes.items()} #dictionary comprehension if change needed"
   ]
  },
  {
   "cell_type": "code",
   "execution_count": 7,
   "metadata": {
    "collapsed": true
   },
   "outputs": [],
   "source": [
    "import networkx as nx \n",
    "DG=nx.DiGraph()"
   ]
  },
  {
   "cell_type": "code",
   "execution_count": 8,
   "metadata": {
    "collapsed": false
   },
   "outputs": [
    {
     "name": "stdout",
     "output_type": "stream",
     "text": [
      "from A8 to 'T' with capacity = 45\n",
      "from 'S' to A4 with capacity = 30\n",
      "from A12 to 'T' with capacity = 180\n",
      "from 'S' to A3 with capacity = 35\n",
      "from A2 to 'T' with capacity = 130\n",
      "from A13 to 'T' with capacity = 50\n",
      "from 'S' to A7 with capacity = 75\n",
      "from 'S' to A9 with capacity = 15\n",
      "from 'S' to A5 with capacity = 5\n",
      "from 'S' to A11 with capacity = 270\n",
      "from A1 to 'T' with capacity = 45\n",
      "from 'S' to A10 with capacity = 20\n",
      "from 'S' to A6 with capacity = 10\n",
      "from A14 to 'T' with capacity = 10\n"
     ]
    }
   ],
   "source": [
    "#ADD SOURCE/SINK EDGES, by definition all nodes are included in edgelist\n",
    "for k, v in d_nodes.items():\n",
    "    \n",
    "    if int(v)<0:\n",
    "        DG.add_edge('S',k)\n",
    "        nx.set_edge_attributes(DG, 'capacity', {('S',k): abs(int(v))})\n",
    "        print(\"from 'S' to\", k, \"with capacity =\",abs(int(v)))\n",
    "\n",
    "    if int(v)>0:\n",
    "        DG.add_edge(k,\"T\")\n",
    "        nx.set_edge_attributes(DG, 'capacity', {(k, 'T'): abs(int(v))})\n",
    "        print(\"from\", k,\"to 'T'\",\"with capacity =\",int(v))"
   ]
  },
  {
   "cell_type": "code",
   "execution_count": 9,
   "metadata": {
    "collapsed": false
   },
   "outputs": [],
   "source": [
    "#nx.edges(DG) #check edges that for source/sink nodes"
   ]
  },
  {
   "cell_type": "code",
   "execution_count": 10,
   "metadata": {
    "collapsed": false
   },
   "outputs": [],
   "source": [
    "#ADD TRANSACTION EDGES\n",
    "def reader(filename2):\n",
    "    for (lineno, line) in enumerate(open(filename2)):\n",
    "        if lineno > 0: # skip header\n",
    "            yield line\n",
    "\n",
    "filename2 = \"case1_edges.csv\"\n",
    "(from_, to_) = zip(*( row for row in csv.reader(reader(filename2))))\n",
    "\n",
    "l_edges = list(zip(from_, to_))\n",
    "\n",
    "for f,t in l_edges:\n",
    "    DG.add_edge(f,t)\n",
    "    DG.edge[f][t]['capacity'] = 99999\n",
    "  "
   ]
  },
  {
   "cell_type": "code",
   "execution_count": 11,
   "metadata": {
    "collapsed": false
   },
   "outputs": [
    {
     "data": {
      "text/plain": [
       "[('A7', 'A5'),\n",
       " ('A7', 'A3'),\n",
       " ('A4', 'A8'),\n",
       " ('A1', 'A7'),\n",
       " ('A1', 'A3'),\n",
       " ('A1', 'A10'),\n",
       " ('A1', 'T'),\n",
       " ('A1', 'A8'),\n",
       " ('A12', 'T'),\n",
       " ('A3', 'A12'),\n",
       " ('A2', 'A1'),\n",
       " ('A2', 'T'),\n",
       " ('A13', 'T'),\n",
       " ('A8', 'A14'),\n",
       " ('A8', 'T'),\n",
       " ('A9', 'A13'),\n",
       " ('S', 'A7'),\n",
       " ('S', 'A4'),\n",
       " ('S', 'A9'),\n",
       " ('S', 'A5'),\n",
       " ('S', 'A11'),\n",
       " ('S', 'A6'),\n",
       " ('S', 'A10'),\n",
       " ('S', 'A3'),\n",
       " ('A11', 'A2'),\n",
       " ('A5', 'A13'),\n",
       " ('A10', 'A1'),\n",
       " ('A6', 'A13'),\n",
       " ('A14', 'T')]"
      ]
     },
     "execution_count": 11,
     "metadata": {},
     "output_type": "execute_result"
    }
   ],
   "source": [
    "nx.edges(DG) #check edges"
   ]
  },
  {
   "cell_type": "code",
   "execution_count": 12,
   "metadata": {
    "collapsed": false
   },
   "outputs": [
    {
     "name": "stdout",
     "output_type": "stream",
     "text": [
      "no. of nodes: 16\n",
      "no. of edges: 29\n",
      "maximum flow: 460\n",
      "minimum cut:  460\n"
     ]
    }
   ],
   "source": [
    "print('no. of nodes:',DG.number_of_nodes())\n",
    "print('no. of edges:',DG.number_of_edges())\n",
    "print('maximum flow:',nx.maximum_flow_value(DG, s='S', t='T'))\n",
    "print('minimum cut: ',nx.minimum_cut_value(DG, s=\"S\", t=\"T\"))"
   ]
  },
  {
   "cell_type": "code",
   "execution_count": 13,
   "metadata": {
    "collapsed": false,
    "scrolled": true
   },
   "outputs": [
    {
     "data": {
      "text/plain": [
       "(460,\n",
       " {'A1': {'A10': 0, 'A3': 90, 'A7': 0, 'A8': 25, 'T': 45},\n",
       "  'A10': {'A1': 20},\n",
       "  'A11': {'A2': 270},\n",
       "  'A12': {'T': 180},\n",
       "  'A13': {'T': 50},\n",
       "  'A14': {'T': 10},\n",
       "  'A2': {'A1': 140, 'T': 130},\n",
       "  'A3': {'A12': 180},\n",
       "  'A4': {'A8': 30},\n",
       "  'A5': {'A13': 25},\n",
       "  'A6': {'A13': 10},\n",
       "  'A7': {'A3': 55, 'A5': 20},\n",
       "  'A8': {'A14': 10, 'T': 45},\n",
       "  'A9': {'A13': 15},\n",
       "  'S': {'A10': 20,\n",
       "   'A11': 270,\n",
       "   'A3': 35,\n",
       "   'A4': 30,\n",
       "   'A5': 5,\n",
       "   'A6': 10,\n",
       "   'A7': 75,\n",
       "   'A9': 15},\n",
       "  'T': {}})"
      ]
     },
     "execution_count": 13,
     "metadata": {},
     "output_type": "execute_result"
    }
   ],
   "source": [
    "#run max-flow min cut algorithm\n",
    "data = nx.maximum_flow(DG, s=\"S\", t=\"T\")\n",
    "nx.maximum_flow(DG, s=\"S\", t=\"T\")"
   ]
  },
  {
   "cell_type": "code",
   "execution_count": 14,
   "metadata": {
    "collapsed": true
   },
   "outputs": [],
   "source": [
    "y1 = []"
   ]
  },
  {
   "cell_type": "code",
   "execution_count": 15,
   "metadata": {
    "collapsed": false
   },
   "outputs": [],
   "source": [
    "for x, z in l_edges:\n",
    "    try:\n",
    "        y1.append(data[1][x][z])\n",
    "    except:\n",
    "        pass"
   ]
  },
  {
   "cell_type": "code",
   "execution_count": 16,
   "metadata": {
    "collapsed": false
   },
   "outputs": [
    {
     "name": "stdout",
     "output_type": "stream",
     "text": [
      "1.11.1\n"
     ]
    }
   ],
   "source": [
    "import numpy as np\n",
    "print(np.__version__)\n",
    "\n"
   ]
  },
  {
   "cell_type": "code",
   "execution_count": 17,
   "metadata": {
    "collapsed": false
   },
   "outputs": [
    {
     "name": "stdout",
     "output_type": "stream",
     "text": [
      "[[270]\n",
      " [140]\n",
      " [ 55]\n",
      " [ 90]\n",
      " [180]\n",
      " [ 30]\n",
      " [ 20]\n",
      " [ 25]\n",
      " [ 10]\n",
      " [  0]\n",
      " [ 15]\n",
      " [  0]\n",
      " [ 20]\n",
      " [ 10]\n",
      " [ 25]]\n"
     ]
    }
   ],
   "source": [
    "y = np.array(y1).reshape(len(l_edges),1)\n",
    "print(y)"
   ]
  },
  {
   "cell_type": "markdown",
   "metadata": {},
   "source": [
    "***DERIVE INCIDENCE MATRIX***"
   ]
  },
  {
   "cell_type": "code",
   "execution_count": 18,
   "metadata": {
    "collapsed": true
   },
   "outputs": [],
   "source": [
    "def incidence_matrix(A, nodelist=None, edgelist=None, \n",
    "                     oriented=True, weight=None):\n",
    "    if nodelist is None:\n",
    "        nodelist = l_nodes\n",
    "    if edgelist is None:\n",
    "        edgelist = l_edges\n",
    "    A = np.zeros((len(nodelist),len(edgelist)))\n",
    "    node_index = dict( (node,i) for i,node in enumerate(nodelist) )\n",
    "    for ei,e in enumerate(edgelist):\n",
    "        (u,v) = e[:2]\n",
    "        if u == v: continue  # self loops give zero column\n",
    "        try:\n",
    "            ui = node_index[u]\n",
    "            vi = node_index[v]\n",
    "        except KeyError:\n",
    "            raise NetworkXError('node %s or %s in edgelist '\n",
    "                                'but not in nodelist\"%(u,v)')\n",
    "        if weight is None:\n",
    "            wt = 1\n",
    "        else:\n",
    "            if DG.is_multigraph():\n",
    "                ekey = e[2]\n",
    "                wt = DG[u][v][ekey].get(weight,1)\n",
    "            else:\n",
    "                wt = DG[u][v].get(weight,1)\n",
    "        if oriented:\n",
    "            A[ui,ei] = -wt\n",
    "            A[vi,ei] = wt\n",
    "        else:\n",
    "            A[ui,ei] = wt\n",
    "            A[vi,ei] = wt\n",
    "    return np.asmatrix(A)"
   ]
  },
  {
   "cell_type": "code",
   "execution_count": 19,
   "metadata": {
    "collapsed": false,
    "scrolled": true
   },
   "outputs": [
    {
     "name": "stdout",
     "output_type": "stream",
     "text": [
      "[[ 0.  1.  0. -1.  0.  0.  0.  0.  0. -1.  0. -1.  1.  0. -1.]\n",
      " [ 1. -1.  0.  0.  0.  0.  0.  0.  0.  0.  0.  0.  0.  0.  0.]\n",
      " [ 0.  0.  1.  1. -1.  0.  0.  0.  0.  0.  0.  0.  0.  0.  0.]\n",
      " [ 0.  0.  0.  0.  0. -1.  0.  0.  0.  0.  0.  0.  0.  0.  0.]\n",
      " [ 0.  0.  0.  0.  0.  0.  1. -1.  0.  0.  0.  0.  0.  0.  0.]\n",
      " [ 0.  0.  0.  0.  0.  0.  0.  0. -1.  0.  0.  0.  0.  0.  0.]\n",
      " [ 0.  0. -1.  0.  0.  0. -1.  0.  0.  1.  0.  0.  0.  0.  0.]\n",
      " [ 0.  0.  0.  0.  0.  1.  0.  0.  0.  0.  0.  0.  0. -1.  1.]\n",
      " [ 0.  0.  0.  0.  0.  0.  0.  0.  0.  0. -1.  0.  0.  0.  0.]\n",
      " [ 0.  0.  0.  0.  0.  0.  0.  0.  0.  0.  0.  1. -1.  0.  0.]\n",
      " [-1.  0.  0.  0.  0.  0.  0.  0.  0.  0.  0.  0.  0.  0.  0.]\n",
      " [ 0.  0.  0.  0.  1.  0.  0.  0.  0.  0.  0.  0.  0.  0.  0.]\n",
      " [ 0.  0.  0.  0.  0.  0.  0.  1.  1.  0.  1.  0.  0.  0.  0.]\n",
      " [ 0.  0.  0.  0.  0.  0.  0.  0.  0.  0.  0.  0.  0.  1.  0.]]\n"
     ]
    }
   ],
   "source": [
    "A = incidence_matrix(\"A\")\n",
    "print(A)"
   ]
  },
  {
   "cell_type": "markdown",
   "metadata": {},
   "source": [
    "***PERFORM CONSISTENCY CHECK***"
   ]
  },
  {
   "cell_type": "code",
   "execution_count": 20,
   "metadata": {
    "collapsed": false
   },
   "outputs": [
    {
     "name": "stdout",
     "output_type": "stream",
     "text": [
      "[[  45]\n",
      " [ 130]\n",
      " [ -35]\n",
      " [ -30]\n",
      " [  -5]\n",
      " [ -10]\n",
      " [ -75]\n",
      " [  45]\n",
      " [ -15]\n",
      " [ -20]\n",
      " [-270]\n",
      " [ 180]\n",
      " [  50]\n",
      " [  10]]\n"
     ]
    }
   ],
   "source": [
    "#derive vector x\n",
    "int_change = []\n",
    "for value in change:\n",
    "    int_change.append(int(value))\n",
    "    \n",
    "x = np.array(int_change).reshape(len(l_nodes), 1)\n",
    "print(x)"
   ]
  },
  {
   "cell_type": "code",
   "execution_count": 24,
   "metadata": {
    "collapsed": false
   },
   "outputs": [
    {
     "name": "stdout",
     "output_type": "stream",
     "text": [
      "[[  45.]\n",
      " [ 130.]\n",
      " [ -35.]\n",
      " [ -30.]\n",
      " [  -5.]\n",
      " [ -10.]\n",
      " [ -75.]\n",
      " [  45.]\n",
      " [ -15.]\n",
      " [ -20.]\n",
      " [-270.]\n",
      " [ 180.]\n",
      " [  50.]\n",
      " [  10.]]\n"
     ]
    }
   ],
   "source": [
    "#check if Ay = x relationship holds\n",
    "Ay = incidence_matrix(\"A\")*y\n",
    "Ay.astype(int)\n",
    "print(Ay)"
   ]
  },
  {
   "cell_type": "code",
   "execution_count": 25,
   "metadata": {
    "collapsed": false
   },
   "outputs": [],
   "source": [
    "#test = np.subtract(Ay, x)\n",
    "#print(test)"
   ]
  },
  {
   "cell_type": "code",
   "execution_count": 26,
   "metadata": {
    "collapsed": false
   },
   "outputs": [
    {
     "name": "stdout",
     "output_type": "stream",
     "text": [
      "inconsistent y\n"
     ]
    }
   ],
   "source": [
    "if x.all == Ay.all:\n",
    "    print(\"consistent y\")\n",
    "else:\n",
    "    print(\"inconsistent y\")"
   ]
  },
  {
   "cell_type": "code",
   "execution_count": null,
   "metadata": {
    "collapsed": true
   },
   "outputs": [],
   "source": []
  }
 ],
 "metadata": {
  "anaconda-cloud": {},
  "kernelspec": {
   "display_name": "Python [conda root]",
   "language": "python",
   "name": "conda-root-py"
  },
  "language_info": {
   "codemirror_mode": {
    "name": "ipython",
    "version": 3
   },
   "file_extension": ".py",
   "mimetype": "text/x-python",
   "name": "python",
   "nbconvert_exporter": "python",
   "pygments_lexer": "ipython3",
   "version": "3.5.2"
  }
 },
 "nbformat": 4,
 "nbformat_minor": 1
}
