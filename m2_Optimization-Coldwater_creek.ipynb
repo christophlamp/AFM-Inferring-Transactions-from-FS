{
 "cells": [
  {
   "cell_type": "code",
   "execution_count": 1,
   "metadata": {
    "collapsed": false
   },
   "outputs": [
    {
     "name": "stdout",
     "output_type": "stream",
     "text": [
      "\u001b[H\u001b[2J"
     ]
    }
   ],
   "source": [
    "clear"
   ]
  },
  {
   "cell_type": "code",
   "execution_count": 2,
   "metadata": {
    "collapsed": true
   },
   "outputs": [],
   "source": [
    "import os"
   ]
  },
  {
   "cell_type": "code",
   "execution_count": 3,
   "metadata": {
    "collapsed": false
   },
   "outputs": [
    {
     "data": {
      "text/plain": [
       "'/Users/chris/Desktop/Dropbox/MasterThesisAFM/Coding'"
      ]
     },
     "execution_count": 3,
     "metadata": {},
     "output_type": "execute_result"
    }
   ],
   "source": [
    "os.chdir(\"/Users/chris/Desktop/Dropbox/MasterThesisAFM/Coding\")\n",
    "os.getcwd()"
   ]
  },
  {
   "cell_type": "code",
   "execution_count": 4,
   "metadata": {
    "collapsed": true
   },
   "outputs": [],
   "source": [
    "import csv"
   ]
  },
  {
   "cell_type": "code",
   "execution_count": 5,
   "metadata": {
    "collapsed": false
   },
   "outputs": [],
   "source": [
    "#CREATE DICTIONARY FOR NODES\n",
    "def reader(filename):\n",
    "    for (lineno, line) in enumerate(open(filename)):\n",
    "        if lineno > 0: # skip header\n",
    "            yield line\n",
    "\n",
    "filename = \"coldwater_nodes.csv\"\n",
    "(l_nodes, nodenames, beg, end, change) = zip(*( row for row in csv.reader(reader(filename))))\n",
    "\n",
    "d_nodes = dict(zip(l_nodes, change))\n",
    "\n",
    "#for k, v in d_nodes.items():\n",
    "    #print(k,\" \",v)\n",
    "\n"
   ]
  },
  {
   "cell_type": "code",
   "execution_count": 6,
   "metadata": {
    "collapsed": false
   },
   "outputs": [],
   "source": [
    "#{k:int(v) for k, v in dict_nodes.items()} #dictionary comprehension if change needed"
   ]
  },
  {
   "cell_type": "code",
   "execution_count": 7,
   "metadata": {
    "collapsed": true
   },
   "outputs": [],
   "source": [
    "import networkx as nx \n",
    "DG=nx.DiGraph()"
   ]
  },
  {
   "cell_type": "code",
   "execution_count": 8,
   "metadata": {
    "collapsed": false
   },
   "outputs": [
    {
     "name": "stdout",
     "output_type": "stream",
     "text": [
      "from 'S' to A9 with capacity = 10264\n",
      "from A7 to 'T' with capacity = 6581\n",
      "from 'S' to A10 with capacity = 9214\n",
      "from A23 to 'T' with capacity = 7857\n",
      "from 'S' to A11 with capacity = 4548\n",
      "from A5 to 'T' with capacity = 1419\n",
      "from A21 to 'T' with capacity = 107083\n",
      "from A3 to 'T' with capacity = 27772\n",
      "from A20 to 'T' with capacity = 120126\n",
      "from A12 to 'T' with capacity = 451\n",
      "from 'S' to A13 with capacity = 843\n",
      "from A8 to 'T' with capacity = 1620\n",
      "from A4 to 'T' with capacity = 2273\n",
      "from A6 to 'T' with capacity = 3673\n",
      "from 'S' to A22 with capacity = 57\n",
      "from 'S' to A14 with capacity = 145\n",
      "from A2 to 'T' with capacity = 1677\n",
      "from 'S' to A19 with capacity = 246697\n",
      "from 'S' to A1 with capacity = 8764\n"
     ]
    }
   ],
   "source": [
    "#ADD SOURCE/SINK EDGES, by definition all nodes are included in edgelist\n",
    "for k, v in d_nodes.items():\n",
    "    \n",
    "    if int(v)<0:\n",
    "        DG.add_edge('S',k)\n",
    "        nx.set_edge_attributes(DG, 'capacity', {('S',k): abs(int(v))})\n",
    "        print(\"from 'S' to\", k, \"with capacity =\",abs(int(v)))\n",
    "\n",
    "    if int(v)>0:\n",
    "        DG.add_edge(k,\"T\")\n",
    "        nx.set_edge_attributes(DG, 'capacity', {(k, 'T'): abs(int(v))})\n",
    "        print(\"from\", k,\"to 'T'\",\"with capacity =\",int(v))"
   ]
  },
  {
   "cell_type": "code",
   "execution_count": 9,
   "metadata": {
    "collapsed": false
   },
   "outputs": [],
   "source": [
    "#nx.edges(DG) #check edges that for source/sink nodes"
   ]
  },
  {
   "cell_type": "code",
   "execution_count": 10,
   "metadata": {
    "collapsed": false
   },
   "outputs": [],
   "source": [
    "#ADD TRANSACTION EDGES\n",
    "def reader(filename2):\n",
    "    for (lineno, line) in enumerate(open(filename2)):\n",
    "        if lineno > 0: # skip header\n",
    "            yield line\n",
    "\n",
    "filename2 = \"coldwater_edges.csv\"\n",
    "(from_, to_) = zip(*( row for row in csv.reader(reader(filename2))))\n",
    "\n",
    "l_edges = list(zip(from_, to_))\n",
    "\n",
    "for f,t in l_edges:\n",
    "    DG.add_edge(f,t)"
   ]
  },
  {
   "cell_type": "code",
   "execution_count": 11,
   "metadata": {
    "collapsed": false
   },
   "outputs": [
    {
     "data": {
      "text/plain": [
       "[('A7', 'T'),\n",
       " ('A11', 'A5'),\n",
       " ('A5', 'T'),\n",
       " ('A12', 'A13'),\n",
       " ('A12', 'T'),\n",
       " ('A3', 'A10'),\n",
       " ('A3', 'T'),\n",
       " ('A13', 'A14'),\n",
       " ('S', 'A9'),\n",
       " ('S', 'A13'),\n",
       " ('S', 'A14'),\n",
       " ('S', 'A10'),\n",
       " ('S', 'A22'),\n",
       " ('S', 'A11'),\n",
       " ('S', 'A19'),\n",
       " ('S', 'A1'),\n",
       " ('A23', 'A12'),\n",
       " ('A23', 'A13'),\n",
       " ('A23', 'A14'),\n",
       " ('A23', 'T'),\n",
       " ('A20', 'A3'),\n",
       " ('A20', 'T'),\n",
       " ('A8', 'A22'),\n",
       " ('A8', 'T'),\n",
       " ('A21', 'A4'),\n",
       " ('A21', 'A6'),\n",
       " ('A21', 'A10'),\n",
       " ('A21', 'T'),\n",
       " ('A21', 'A11'),\n",
       " ('A21', 'A22'),\n",
       " ('A21', 'A7'),\n",
       " ('A6', 'A5'),\n",
       " ('A6', 'T'),\n",
       " ('A22', 'A9'),\n",
       " ('A4', 'T'),\n",
       " ('A2', 'A19'),\n",
       " ('A2', 'A1'),\n",
       " ('A2', 'T'),\n",
       " ('A1', 'A9'),\n",
       " ('A1', 'A12'),\n",
       " ('A1', 'A8'),\n",
       " ('A1', 'A4'),\n",
       " ('A1', 'A7'),\n",
       " ('A1', 'A10'),\n",
       " ('A1', 'A11')]"
      ]
     },
     "execution_count": 11,
     "metadata": {},
     "output_type": "execute_result"
    }
   ],
   "source": [
    "nx.edges(DG) #check edges"
   ]
  },
  {
   "cell_type": "code",
   "execution_count": 12,
   "metadata": {
    "collapsed": false
   },
   "outputs": [
    {
     "name": "stdout",
     "output_type": "stream",
     "text": [
      "no. of nodes: 21\n",
      "no. of edges: 45\n",
      "maximum flow: 10183\n",
      "minimum cut:  10183\n"
     ]
    }
   ],
   "source": [
    "print('no. of nodes:',DG.number_of_nodes())\n",
    "print('no. of edges:',DG.number_of_edges())\n",
    "print('maximum flow:',nx.maximum_flow_value(DG, s='S', t='T'))\n",
    "print('minimum cut: ',nx.minimum_cut_value(DG, s=\"S\", t=\"T\"))"
   ]
  },
  {
   "cell_type": "code",
   "execution_count": 13,
   "metadata": {
    "collapsed": false,
    "scrolled": true
   },
   "outputs": [
    {
     "data": {
      "text/plain": [
       "(10183,\n",
       " {'A1': {'A10': 0,\n",
       "   'A11': 0,\n",
       "   'A12': 451,\n",
       "   'A4': 2273,\n",
       "   'A7': 4420,\n",
       "   'A8': 1620,\n",
       "   'A9': 0},\n",
       "  'A10': {},\n",
       "  'A11': {'A5': 1419},\n",
       "  'A12': {'A13': 0, 'T': 451},\n",
       "  'A13': {'A14': 0},\n",
       "  'A14': {},\n",
       "  'A19': {},\n",
       "  'A2': {'A1': 0, 'A19': 0, 'T': 0},\n",
       "  'A20': {'A3': 0, 'T': 0},\n",
       "  'A21': {'A10': 0, 'A11': 0, 'A22': 0, 'A4': 0, 'A6': 0, 'A7': 0, 'T': 0},\n",
       "  'A22': {'A9': 0},\n",
       "  'A23': {'A12': 0, 'A13': 0, 'A14': 0, 'T': 0},\n",
       "  'A3': {'A10': 0, 'T': 0},\n",
       "  'A4': {'T': 2273},\n",
       "  'A5': {'T': 1419},\n",
       "  'A6': {'A5': 0, 'T': 0},\n",
       "  'A7': {'T': 4420},\n",
       "  'A8': {'A22': 0, 'T': 1620},\n",
       "  'A9': {},\n",
       "  'S': {'A1': 8764,\n",
       "   'A10': 0,\n",
       "   'A11': 1419,\n",
       "   'A13': 0,\n",
       "   'A14': 0,\n",
       "   'A19': 0,\n",
       "   'A22': 0,\n",
       "   'A9': 0},\n",
       "  'T': {}})"
      ]
     },
     "execution_count": 13,
     "metadata": {},
     "output_type": "execute_result"
    }
   ],
   "source": [
    "#run max-flow min cut algorithm\n",
    "data = nx.maximum_flow(DG, s=\"S\", t=\"T\")\n",
    "nx.maximum_flow(DG, s=\"S\", t=\"T\")"
   ]
  },
  {
   "cell_type": "code",
   "execution_count": 14,
   "metadata": {
    "collapsed": true
   },
   "outputs": [],
   "source": [
    "y1 = []"
   ]
  },
  {
   "cell_type": "code",
   "execution_count": 15,
   "metadata": {
    "collapsed": false
   },
   "outputs": [],
   "source": [
    "for x, z in l_edges:\n",
    "    try:\n",
    "        y1.append(data[1][x][z])\n",
    "    except:\n",
    "        pass"
   ]
  },
  {
   "cell_type": "code",
   "execution_count": 16,
   "metadata": {
    "collapsed": false
   },
   "outputs": [
    {
     "name": "stdout",
     "output_type": "stream",
     "text": [
      "1.11.1\n"
     ]
    }
   ],
   "source": [
    "import numpy as np\n",
    "print(np.__version__)\n",
    "\n"
   ]
  },
  {
   "cell_type": "code",
   "execution_count": 17,
   "metadata": {
    "collapsed": false
   },
   "outputs": [
    {
     "name": "stdout",
     "output_type": "stream",
     "text": [
      "[[   0]\n",
      " [   0]\n",
      " [   0]\n",
      " [2273]\n",
      " [4420]\n",
      " [ 451]\n",
      " [1620]\n",
      " [   0]\n",
      " [   0]\n",
      " [   0]\n",
      " [   0]\n",
      " [   0]\n",
      " [   0]\n",
      " [   0]\n",
      " [   0]\n",
      " [   0]\n",
      " [   0]\n",
      " [   0]\n",
      " [   0]\n",
      " [   0]\n",
      " [   0]\n",
      " [   0]\n",
      " [1419]\n",
      " [   0]\n",
      " [   0]\n",
      " [   0]]\n"
     ]
    }
   ],
   "source": [
    "y = np.array(y1).reshape(len(l_edges),1)\n",
    "print(y)"
   ]
  },
  {
   "cell_type": "markdown",
   "metadata": {},
   "source": [
    "***DERIVE INCIDENCE MATRIX***"
   ]
  },
  {
   "cell_type": "code",
   "execution_count": 18,
   "metadata": {
    "collapsed": true
   },
   "outputs": [],
   "source": [
    "def incidence_matrix(A, nodelist=None, edgelist=None, \n",
    "                     oriented=True, weight=None):\n",
    "    if nodelist is None:\n",
    "        nodelist = l_nodes\n",
    "    if edgelist is None:\n",
    "        edgelist = l_edges\n",
    "    A = np.zeros((len(nodelist),len(edgelist)))\n",
    "    node_index = dict( (node,i) for i,node in enumerate(nodelist) )\n",
    "    for ei,e in enumerate(edgelist):\n",
    "        (u,v) = e[:2]\n",
    "        if u == v: continue  # self loops give zero column\n",
    "        try:\n",
    "            ui = node_index[u]\n",
    "            vi = node_index[v]\n",
    "        except KeyError:\n",
    "            raise NetworkXError('node %s or %s in edgelist '\n",
    "                                'but not in nodelist\"%(u,v)')\n",
    "        if weight is None:\n",
    "            wt = 1\n",
    "        else:\n",
    "            if DG.is_multigraph():\n",
    "                ekey = e[2]\n",
    "                wt = DG[u][v][ekey].get(weight,1)\n",
    "            else:\n",
    "                wt = DG[u][v].get(weight,1)\n",
    "        if oriented:\n",
    "            A[ui,ei] = -wt\n",
    "            A[vi,ei] = wt\n",
    "        else:\n",
    "            A[ui,ei] = wt\n",
    "            A[vi,ei] = wt\n",
    "    return np.asmatrix(A)"
   ]
  },
  {
   "cell_type": "code",
   "execution_count": 19,
   "metadata": {
    "collapsed": false,
    "scrolled": true
   },
   "outputs": [
    {
     "name": "stdout",
     "output_type": "stream",
     "text": [
      "[[ 1. -1. -1. -1. -1. -1. -1. -1.  0.  0.  0.  0.  0.  0.  0.  0.  0.  0.\n",
      "   0.  0.  0.  0.  0.  0.  0.  0.]\n",
      " [-1.  0.  0.  0.  0.  0.  0.  0. -1.  0.  0.  0.  0.  0.  0.  0.  0.  0.\n",
      "   0.  0.  0.  0.  0.  0.  0.  0.]\n",
      " [ 0.  0.  0.  0.  0.  0.  0.  0.  0.  0.  1.  0.  0.  0.  0.  0.  0.  0.\n",
      "   0.  0.  0.  0.  0.  0. -1.  0.]\n",
      " [ 0.  0.  0.  1.  0.  0.  0.  0.  0.  0.  0.  0.  0.  1.  0.  0.  0.  0.\n",
      "   0.  0.  0.  0.  0.  0.  0.  0.]\n",
      " [ 0.  0.  0.  0.  0.  0.  0.  0.  0.  0.  0.  0.  0.  0.  0.  0.  0.  0.\n",
      "   0.  0.  0.  0.  1.  1.  0.  0.]\n",
      " [ 0.  0.  0.  0.  0.  0.  0.  0.  0.  0.  0.  1.  0.  0.  0.  0.  0.  0.\n",
      "   0.  0.  0.  0.  0. -1.  0.  0.]\n",
      " [ 0.  0.  0.  0.  1.  0.  0.  0.  0.  0.  0.  0.  0.  0.  1.  0.  0.  0.\n",
      "   0.  0.  0.  0.  0.  0.  0.  0.]\n",
      " [ 0.  0.  0.  0.  0.  0.  1.  0.  0.  0.  0.  0.  0.  0.  0.  0.  0.  0.\n",
      "  -1.  0.  0.  0.  0.  0.  0.  0.]\n",
      " [ 0.  0.  0.  0.  0.  0.  0.  1.  0.  0.  0.  0.  0.  0.  0.  0.  0.  0.\n",
      "   0.  1.  0.  0.  0.  0.  0.  0.]\n",
      " [ 0.  1.  0.  0.  0.  0.  0.  0.  0.  1.  0.  0.  0.  0.  0.  0.  0.  0.\n",
      "   0.  0.  0.  0.  0.  0.  1.  0.]\n",
      " [ 0.  0.  1.  0.  0.  0.  0.  0.  0.  0.  0.  0.  1.  0.  0.  0.  0.  0.\n",
      "   0.  0.  0.  0. -1.  0.  0.  0.]\n",
      " [ 0.  0.  0.  0.  0.  1.  0.  0.  0.  0.  0.  0.  0.  0.  0.  1.  0.  0.\n",
      "   0.  0.  0. -1.  0.  0.  0.  0.]\n",
      " [ 0.  0.  0.  0.  0.  0.  0.  0.  0.  0.  0.  0.  0.  0.  0.  0.  1.  0.\n",
      "   0.  0. -1.  1.  0.  0.  0.  0.]\n",
      " [ 0.  0.  0.  0.  0.  0.  0.  0.  0.  0.  0.  0.  0.  0.  0.  0.  0.  1.\n",
      "   0.  0.  1.  0.  0.  0.  0.  0.]\n",
      " [ 0.  0.  0.  0.  0.  0.  0.  0.  1.  0.  0.  0.  0.  0.  0.  0.  0.  0.\n",
      "   0.  0.  0.  0.  0.  0.  0.  0.]\n",
      " [ 0.  0.  0.  0.  0.  0.  0.  0.  0.  0. -1.  0.  0.  0.  0.  0.  0.  0.\n",
      "   0.  0.  0.  0.  0.  0.  0.  0.]\n",
      " [ 0.  0.  0.  0.  0.  0.  0.  0.  0. -1.  0. -1. -1. -1. -1.  0.  0.  0.\n",
      "   0.  0.  0.  0.  0.  0.  0. -1.]\n",
      " [ 0.  0.  0.  0.  0.  0.  0.  0.  0.  0.  0.  0.  0.  0.  0.  0.  0.  0.\n",
      "   1. -1.  0.  0.  0.  0.  0.  1.]\n",
      " [ 0.  0.  0.  0.  0.  0.  0.  0.  0.  0.  0.  0.  0.  0.  0. -1. -1. -1.\n",
      "   0.  0.  0.  0.  0.  0.  0.  0.]]\n"
     ]
    }
   ],
   "source": [
    "A = incidence_matrix(\"A\")\n",
    "print(A)"
   ]
  },
  {
   "cell_type": "markdown",
   "metadata": {},
   "source": [
    "***PERFORM CONSISTENCY CHECK***"
   ]
  },
  {
   "cell_type": "code",
   "execution_count": 20,
   "metadata": {
    "collapsed": false
   },
   "outputs": [
    {
     "name": "stdout",
     "output_type": "stream",
     "text": [
      "[[  -8764]\n",
      " [   1677]\n",
      " [  27772]\n",
      " [   2273]\n",
      " [   1419]\n",
      " [   3673]\n",
      " [   6581]\n",
      " [   1620]\n",
      " [ -10264]\n",
      " [  -9214]\n",
      " [  -4548]\n",
      " [    451]\n",
      " [   -843]\n",
      " [   -145]\n",
      " [-246697]\n",
      " [ 120126]\n",
      " [ 107083]\n",
      " [    -57]\n",
      " [   7857]]\n"
     ]
    }
   ],
   "source": [
    "#derive vector x\n",
    "int_change = []\n",
    "for value in change:\n",
    "    int_change.append(int(value))\n",
    "    \n",
    "x = np.array(int_change).reshape(len(l_nodes), 1)\n",
    "print(x)"
   ]
  },
  {
   "cell_type": "code",
   "execution_count": 21,
   "metadata": {
    "collapsed": false
   },
   "outputs": [
    {
     "name": "stdout",
     "output_type": "stream",
     "text": [
      "[[-8764.]\n",
      " [    0.]\n",
      " [    0.]\n",
      " [ 2273.]\n",
      " [ 1419.]\n",
      " [    0.]\n",
      " [ 4420.]\n",
      " [ 1620.]\n",
      " [    0.]\n",
      " [    0.]\n",
      " [-1419.]\n",
      " [  451.]\n",
      " [    0.]\n",
      " [    0.]\n",
      " [    0.]\n",
      " [    0.]\n",
      " [    0.]\n",
      " [    0.]\n",
      " [    0.]]\n"
     ]
    }
   ],
   "source": [
    "#check if Ay = x relationship holds\n",
    "Ay = incidence_matrix(\"A\")*y\n",
    "print(Ay)"
   ]
  },
  {
   "cell_type": "code",
   "execution_count": 24,
   "metadata": {
    "collapsed": false
   },
   "outputs": [],
   "source": [
    "#test = np.subtract(Ay, x)\n",
    "#print(test)"
   ]
  },
  {
   "cell_type": "code",
   "execution_count": 25,
   "metadata": {
    "collapsed": false
   },
   "outputs": [
    {
     "name": "stdout",
     "output_type": "stream",
     "text": [
      "inconsistent y\n"
     ]
    }
   ],
   "source": [
    "if x.all == Ay.all:\n",
    "    print(\"consistent y\")\n",
    "else:\n",
    "    print(\"inconsistent y\")"
   ]
  },
  {
   "cell_type": "code",
   "execution_count": null,
   "metadata": {
    "collapsed": true
   },
   "outputs": [],
   "source": []
  }
 ],
 "metadata": {
  "anaconda-cloud": {},
  "kernelspec": {
   "display_name": "Python [conda root]",
   "language": "python",
   "name": "conda-root-py"
  },
  "language_info": {
   "codemirror_mode": {
    "name": "ipython",
    "version": 3
   },
   "file_extension": ".py",
   "mimetype": "text/x-python",
   "name": "python",
   "nbconvert_exporter": "python",
   "pygments_lexer": "ipython3",
   "version": "3.5.2"
  }
 },
 "nbformat": 4,
 "nbformat_minor": 1
}
