{
 "cells": [
  {
   "cell_type": "code",
   "execution_count": 1,
   "metadata": {
    "collapsed": false
   },
   "outputs": [
    {
     "name": "stdout",
     "output_type": "stream",
     "text": [
      "\u001b[H\u001b[2J"
     ]
    }
   ],
   "source": [
    "clear"
   ]
  },
  {
   "cell_type": "code",
   "execution_count": 2,
   "metadata": {
    "collapsed": false
   },
   "outputs": [
    {
     "data": {
      "text/plain": [
       "'/Users/chris/Desktop/Dropbox/MasterThesisAFM/Coding'"
      ]
     },
     "execution_count": 2,
     "metadata": {},
     "output_type": "execute_result"
    }
   ],
   "source": [
    "import os\n",
    "os.chdir(\"/Users/chris/Desktop/Dropbox/MasterThesisAFM/Coding\")\n",
    "os.getcwd()"
   ]
  },
  {
   "cell_type": "code",
   "execution_count": 3,
   "metadata": {
    "collapsed": true
   },
   "outputs": [],
   "source": [
    "import numpy as np\n",
    "import random as rd\n",
    "import networkx as nx\n",
    "import csv"
   ]
  },
  {
   "cell_type": "code",
   "execution_count": 4,
   "metadata": {
    "collapsed": false
   },
   "outputs": [
    {
     "data": {
      "text/plain": [
       "dtype('int32')"
      ]
     },
     "execution_count": 4,
     "metadata": {},
     "output_type": "execute_result"
    }
   ],
   "source": [
    "#beginning balances\n",
    "bA1  = 135\n",
    "bA2  = 145\n",
    "bA3  = 90\n",
    "bA4  = 30\n",
    "bA5  = 215\n",
    "bA6  = 70\n",
    "bA7  = -75\n",
    "bA8  = -50\n",
    "bA9  = -60\n",
    "bA10  = -120\n",
    "bA11  = 0\n",
    "bA12  = 0\n",
    "bA13  = 0\n",
    "bA14  = 0\n",
    "begbal = (bA1, bA2, bA3, bA4, bA5, bA6, bA7, bA8, bA9, bA10, bA11, bA12, bA13, bA14)\n",
    "beg = np.array(begbal).reshape(14,1)\n",
    "beg_int32 = beg.astype(np.int32)\n",
    "beg_int32.dtype"
   ]
  },
  {
   "cell_type": "code",
   "execution_count": 5,
   "metadata": {
    "collapsed": false
   },
   "outputs": [],
   "source": [
    "A11_A2 = abs(int(rd.normalvariate(270, 25)))  #recognize sales\n",
    "A2_A1 = abs(int(rd.normalvariate(180, 20)))   #collect A/R\n",
    "A7_A3 = abs(int(rd.normalvariate(115, 20)))   #buy inventory on account\n",
    "A1_A3 = abs(int(rd.normalvariate(30, 10)))    #buy inventory for cash\n",
    "A3_A12 = int(A11_A2*((rd.randrange(55,75,1))/100))  #recognize CoS (randomly 60-70% of Sales)\n",
    "A4_A8 = abs(int(rd.normalvariate(30, 10)))    #net prepaid expenses with accrued liabilities\n",
    "A7_A5 = abs(int(rd.normalvariate(20, 5)))     #buy PPE on account\n",
    "A5_A13 = abs(int(rd.normalvariate(25, 10)))   #depreciate PPE\n",
    "A6_A13 = abs(int(rd.normalvariate(10, 10)))   #amortize intangibles\n",
    "A1_A7 = abs(int(rd.normalvariate(60, 10)))    #redeem accounts payable\n",
    "A9_A13 = abs(int(rd.normalvariate(15, 10)))   #add provisions\n",
    "A1_A10 = abs(int(rd.normalvariate(30, 10)))   #pay off LT debt\n",
    "A10_A1 = abs(int(rd.normalvariate(50, 10)))   #take on LT debt\n",
    "A8_A14 = int((A11_A2 - A3_A12 - A5_A13 - A6_A13 - A9_A13)*0.2)   #recognize tax expense\n",
    "A1_A8 = abs(int(rd.normalvariate(25, 10)))    #redeem accrued liabilities"
   ]
  },
  {
   "cell_type": "code",
   "execution_count": 6,
   "metadata": {
    "collapsed": false
   },
   "outputs": [
    {
     "name": "stdout",
     "output_type": "stream",
     "text": [
      "[[226]\n",
      " [212]\n",
      " [106]\n",
      " [ 27]\n",
      " [137]\n",
      " [ 44]\n",
      " [ 15]\n",
      " [ 21]\n",
      " [ 10]\n",
      " [ 65]\n",
      " [ 18]\n",
      " [ 34]\n",
      " [ 50]\n",
      " [  8]\n",
      " [ 20]]\n"
     ]
    }
   ],
   "source": [
    "#create matrix from randomized transactions\n",
    "transactions = (A11_A2, A2_A1, A7_A3, A1_A3, A3_A12, A4_A8, A7_A5, A5_A13, A6_A13, A1_A7, A9_A13, A1_A10, A10_A1, A8_A14, A1_A8)\n",
    "ysim = np.array(transactions).reshape(15,1)\n",
    "print(ysim)"
   ]
  },
  {
   "cell_type": "code",
   "execution_count": 7,
   "metadata": {
    "collapsed": false
   },
   "outputs": [],
   "source": [
    "#produce list of nodes and edges for incidence matrix\n",
    "#nodelist\n",
    "def reader(filename):\n",
    "    for (lineno, line) in enumerate(open(filename)):\n",
    "        if lineno > 0: # skip header\n",
    "            yield line\n",
    "\n",
    "filename = \"case1_nodes.csv\"\n",
    "(l_nodes, nodenames, beg, end, change) = zip(*( row for row in csv.reader(reader(filename))))\n",
    "\n",
    "\n",
    "#edgelist\n",
    "def reader(filename2):\n",
    "    for (lineno, line) in enumerate(open(filename2)):\n",
    "        if lineno > 0: # skip header\n",
    "            yield line\n",
    "\n",
    "filename2 = \"case1_edges.csv\"\n",
    "(from_, to_, transactions_) = zip(*( row for row in csv.reader(reader(filename2))))\n",
    "\n",
    "l_edges = list(zip(from_, to_))"
   ]
  },
  {
   "cell_type": "code",
   "execution_count": 8,
   "metadata": {
    "collapsed": false
   },
   "outputs": [],
   "source": [
    "#produce incidence matrix\n",
    "def incidence_matrix(A, nodelist=None, edgelist=None, \n",
    "                     oriented=True, weight=None):\n",
    "    if nodelist is None:\n",
    "        nodelist = l_nodes\n",
    "    if edgelist is None:\n",
    "        edgelist = l_edges\n",
    "    A = np.zeros((len(nodelist),len(edgelist)))\n",
    "    node_index = dict( (node,i) for i,node in enumerate(nodelist) )\n",
    "    for ei,e in enumerate(edgelist):\n",
    "        (u,v) = e[:2]\n",
    "        if u == v: continue  # self loops give zero column\n",
    "        try:\n",
    "            ui = node_index[u]\n",
    "            vi = node_index[v]\n",
    "        except KeyError:\n",
    "            raise NetworkXError('node %s or %s in edgelist '\n",
    "                                'but not in nodelist\"%(u,v)')\n",
    "        if weight is None:\n",
    "            wt = 1\n",
    "        else:\n",
    "            if DG.is_multigraph():\n",
    "                ekey = e[2]\n",
    "                wt = DG[u][v][ekey].get(weight,1)\n",
    "            else:\n",
    "                wt = DG[u][v].get(weight,1)\n",
    "        if oriented:\n",
    "            A[ui,ei] = -wt\n",
    "            A[vi,ei] = wt\n",
    "        else:\n",
    "            A[ui,ei] = wt\n",
    "            A[vi,ei] = wt\n",
    "    return np.asmatrix(A)"
   ]
  },
  {
   "cell_type": "code",
   "execution_count": 9,
   "metadata": {
    "collapsed": false
   },
   "outputs": [
    {
     "name": "stdout",
     "output_type": "stream",
     "text": [
      "[[ 116]\n",
      " [  14]\n",
      " [  -4]\n",
      " [ -44]\n",
      " [  -6]\n",
      " [ -10]\n",
      " [ -56]\n",
      " [  56]\n",
      " [ -18]\n",
      " [ -16]\n",
      " [-226]\n",
      " [ 137]\n",
      " [  49]\n",
      " [   8]]\n"
     ]
    }
   ],
   "source": [
    "xsim = incidence_matrix(\"A\") * ysim\n",
    "xsim_int32 = xsim.astype(np.int32)\n",
    "print(xsim_int32)"
   ]
  },
  {
   "cell_type": "code",
   "execution_count": 10,
   "metadata": {
    "collapsed": false
   },
   "outputs": [
    {
     "name": "stdout",
     "output_type": "stream",
     "text": [
      "[[ 251]\n",
      " [ 159]\n",
      " [  86]\n",
      " [ -14]\n",
      " [ 209]\n",
      " [  60]\n",
      " [-131]\n",
      " [   6]\n",
      " [ -78]\n",
      " [-136]\n",
      " [-226]\n",
      " [ 137]\n",
      " [  49]\n",
      " [   8]]\n"
     ]
    }
   ],
   "source": [
    "endsim = beg_int32 + xsim_int32\n",
    "print(endsim)"
   ]
  },
  {
   "cell_type": "code",
   "execution_count": 11,
   "metadata": {
    "collapsed": false
   },
   "outputs": [],
   "source": [
    "#redefine arc capacities\n",
    "d_nodes = dict(zip(l_nodes, xsim))"
   ]
  },
  {
   "cell_type": "code",
   "execution_count": 12,
   "metadata": {
    "collapsed": false
   },
   "outputs": [
    {
     "name": "stdout",
     "output_type": "stream",
     "text": [
      "from A1 to 'T' with capacity = 116\n",
      "from A2 to 'T' with capacity = 14\n",
      "from 'S' to A3 with capacity = 4\n",
      "from 'S' to A4 with capacity = 44\n",
      "from 'S' to A5 with capacity = 6\n",
      "from 'S' to A6 with capacity = 10\n",
      "from 'S' to A7 with capacity = 56\n",
      "from A8 to 'T' with capacity = 56\n",
      "from 'S' to A9 with capacity = 18\n",
      "from 'S' to A10 with capacity = 16\n",
      "from 'S' to A11 with capacity = 226\n",
      "from A12 to 'T' with capacity = 137\n",
      "from A13 to 'T' with capacity = 49\n",
      "from A14 to 'T' with capacity = 8\n"
     ]
    }
   ],
   "source": [
    "#create DiGraph = DG\n",
    "DG=nx.DiGraph()\n",
    "#ADD SOURCE/SINK EDGES, by definition all nodes are included in edgelist\n",
    "for k, v in d_nodes.items():\n",
    "    \n",
    "    if int(v)<0:\n",
    "        DG.add_edge('S',k)\n",
    "        nx.set_edge_attributes(DG, 'capacity', {('S',k): abs(int(v))})\n",
    "        print(\"from 'S' to\", k, \"with capacity =\",abs(int(v)))\n",
    "\n",
    "    if int(v)>0:\n",
    "        DG.add_edge(k,\"T\")\n",
    "        nx.set_edge_attributes(DG, 'capacity', {(k, 'T'): abs(int(v))})\n",
    "        print(\"from\", k,\"to 'T'\",\"with capacity =\",int(v))"
   ]
  },
  {
   "cell_type": "code",
   "execution_count": 13,
   "metadata": {
    "collapsed": false
   },
   "outputs": [],
   "source": [
    "#add transaction edges\n",
    "for f,t in l_edges:\n",
    "    DG.add_edge(f,t)\n",
    "    DG.edge[f][t]['capacity'] = 99999"
   ]
  },
  {
   "cell_type": "code",
   "execution_count": 14,
   "metadata": {
    "collapsed": false
   },
   "outputs": [
    {
     "name": "stdout",
     "output_type": "stream",
     "text": [
      "no. of nodes: 16\n",
      "no. of edges: 29\n",
      "maximum flow: 380\n",
      "minimum cut:  380\n"
     ]
    }
   ],
   "source": [
    "print('no. of nodes:',DG.number_of_nodes())\n",
    "print('no. of edges:',DG.number_of_edges())\n",
    "print('maximum flow:',nx.maximum_flow_value(DG, s='S', t='T'))\n",
    "print('minimum cut: ',nx.minimum_cut_value(DG, s=\"S\", t=\"T\"))"
   ]
  },
  {
   "cell_type": "code",
   "execution_count": 15,
   "metadata": {
    "collapsed": false
   },
   "outputs": [
    {
     "data": {
      "text/plain": [
       "(380,\n",
       " {'A1': {'A10': 0, 'A3': 77, 'A7': 15, 'A8': 20, 'T': 116},\n",
       "  'A10': {'A1': 16},\n",
       "  'A11': {'A2': 226},\n",
       "  'A12': {'T': 137},\n",
       "  'A13': {'T': 49},\n",
       "  'A14': {'T': 8},\n",
       "  'A2': {'A1': 212, 'T': 14},\n",
       "  'A3': {'A12': 137},\n",
       "  'A4': {'A8': 44},\n",
       "  'A5': {'A13': 21},\n",
       "  'A6': {'A13': 10},\n",
       "  'A7': {'A3': 56, 'A5': 15},\n",
       "  'A8': {'A14': 8, 'T': 56},\n",
       "  'A9': {'A13': 18},\n",
       "  'S': {'A10': 16,\n",
       "   'A11': 226,\n",
       "   'A3': 4,\n",
       "   'A4': 44,\n",
       "   'A5': 6,\n",
       "   'A6': 10,\n",
       "   'A7': 56,\n",
       "   'A9': 18},\n",
       "  'T': {}})"
      ]
     },
     "execution_count": 15,
     "metadata": {},
     "output_type": "execute_result"
    }
   ],
   "source": [
    "#run max-flow min cut algorithm\n",
    "data = nx.maximum_flow(DG, s=\"S\", t=\"T\")\n",
    "nx.maximum_flow(DG, s=\"S\", t=\"T\")"
   ]
  },
  {
   "cell_type": "code",
   "execution_count": 16,
   "metadata": {
    "collapsed": false
   },
   "outputs": [],
   "source": [
    "#define y from max-flow min cut\n",
    "y1 = []\n",
    "for x, z in l_edges:\n",
    "    try:\n",
    "        y1.append(data[1][x][z])\n",
    "    except:\n",
    "        pass\n",
    "y_alg = np.array(y1).reshape(len(l_edges),1)"
   ]
  },
  {
   "cell_type": "code",
   "execution_count": 17,
   "metadata": {
    "collapsed": false
   },
   "outputs": [
    {
     "data": {
      "text/plain": [
       "array([[  0],\n",
       "       [  0],\n",
       "       [-50],\n",
       "       [ 50],\n",
       "       [  0],\n",
       "       [  0],\n",
       "       [  0],\n",
       "       [  0],\n",
       "       [  0],\n",
       "       [-50],\n",
       "       [  0],\n",
       "       [-34],\n",
       "       [-34],\n",
       "       [  0],\n",
       "       [  0]])"
      ]
     },
     "execution_count": 17,
     "metadata": {},
     "output_type": "execute_result"
    }
   ],
   "source": [
    "y_alg - ysim"
   ]
  }
 ],
 "metadata": {
  "kernelspec": {
   "display_name": "Python 3",
   "language": "python",
   "name": "python3"
  },
  "language_info": {
   "codemirror_mode": {
    "name": "ipython",
    "version": 3
   },
   "file_extension": ".py",
   "mimetype": "text/x-python",
   "name": "python",
   "nbconvert_exporter": "python",
   "pygments_lexer": "ipython3",
   "version": "3.6.0"
  }
 },
 "nbformat": 4,
 "nbformat_minor": 2
}
