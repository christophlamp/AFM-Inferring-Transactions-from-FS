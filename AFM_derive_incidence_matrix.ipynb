{
 "cells": [
  {
   "cell_type": "code",
   "execution_count": 3,
   "metadata": {
    "collapsed": false
   },
   "outputs": [],
   "source": [
    "nodes = ([\"A1\",\"A2\",\"A3\",\"A4\",\"A5\", \"A6\", \"A7\", \"A8\"]) #create nodes within directed graph"
   ]
  },
  {
   "cell_type": "code",
   "execution_count": 4,
   "metadata": {
    "collapsed": false
   },
   "outputs": [
    {
     "name": "stdout",
     "output_type": "stream",
     "text": [
      "A1\n",
      "A2\n",
      "A3\n",
      "A4\n",
      "A5\n",
      "A6\n",
      "A7\n",
      "A8\n"
     ]
    }
   ],
   "source": [
    "for each_node in nodes:\n",
    "    print(each_node)"
   ]
  },
  {
   "cell_type": "code",
   "execution_count": 5,
   "metadata": {
    "collapsed": true
   },
   "outputs": [],
   "source": [
    "edges =([(\"A2\",\"A1\"),(\"A1\",\"A4\"),(\"A1\",\"A5\"),(\"A2\",\"A8\"),(\"A6\",\"A2\"),\n",
    "                   (\"A4\",\"A8\"),(\"A3\",\"A7\"),(\"A5\",\"A8\"),(\"A5\",\"A3\"),(\"A4\",\"A3\")]) \n",
    "\n",
    "#add edges without (S) and (T) // important: in Arya(2004) single symbols are labelled differently (i.e. y12 = y21)\n",
    "#Up to this point, all nodes and edges have been added to the directed graph excluding (S) and (T) Next, an incidence matrix (A) is derived from the nodes and edges previously defined"
   ]
  },
  {
   "cell_type": "code",
   "execution_count": 6,
   "metadata": {
    "collapsed": false
   },
   "outputs": [
    {
     "name": "stdout",
     "output_type": "stream",
     "text": [
      "in the following format: Credit An -> Debit An\n",
      "('A2', 'A1')\n",
      "('A1', 'A4')\n",
      "('A1', 'A5')\n",
      "('A2', 'A8')\n",
      "('A6', 'A2')\n",
      "('A4', 'A8')\n",
      "('A3', 'A7')\n",
      "('A5', 'A8')\n",
      "('A5', 'A3')\n",
      "('A4', 'A3')\n"
     ]
    }
   ],
   "source": [
    "print(\"in the following format: Credit An -> Debit An\")\n",
    "for each_edge in edges:\n",
    "    print(each_edge)\n",
    "    "
   ]
  },
  {
   "cell_type": "markdown",
   "metadata": {},
   "source": [
    "derive incidence matrix:"
   ]
  },
  {
   "cell_type": "code",
   "execution_count": 7,
   "metadata": {
    "collapsed": false
   },
   "outputs": [],
   "source": [
    "def incidence_matrix(A, nodelist=None, edgelist=None, \n",
    "                     oriented=True, weight=None):\n",
    "    \n",
    "    try:\n",
    "        import numpy as np\n",
    "    except ImportError:\n",
    "        raise ImportError(\n",
    "          \"incidence_matrix() requires numpy: http://scipy.org/ \")\n",
    "    if nodelist is None:\n",
    "        nodelist = nodes\n",
    "    if edgelist is None:\n",
    "        edgelist = edges\n",
    "    A = np.zeros((len(nodelist),len(edgelist)))\n",
    "    node_index = dict( (node,i) for i,node in enumerate(nodelist) )\n",
    "    for ei,e in enumerate(edgelist):\n",
    "        (u,v) = e[:2]\n",
    "        if u == v: continue  # self loops give zero column\n",
    "        try:\n",
    "            ui = node_index[u]\n",
    "            vi = node_index[v]\n",
    "        except KeyError:\n",
    "            raise NetworkXError('node %s or %s in edgelist '\n",
    "                                'but not in nodelist\"%(u,v)')\n",
    "        if weight is None:\n",
    "            wt = 1\n",
    "        else:\n",
    "            if DG.is_multigraph():\n",
    "                ekey = e[2]\n",
    "                wt = DG[u][v][ekey].get(weight,1)\n",
    "            else:\n",
    "                wt = DG[u][v].get(weight,1)\n",
    "        if oriented:\n",
    "            A[ui,ei] = -wt\n",
    "            A[vi,ei] = wt\n",
    "        else:\n",
    "            A[ui,ei] = wt\n",
    "            A[vi,ei] = wt\n",
    "    return np.asmatrix(A)\n",
    "# (http://networkx.github.io/documentation/networkx-1.7/_modules/networkx/linalg/graphmatrix.html)"
   ]
  },
  {
   "cell_type": "code",
   "execution_count": 8,
   "metadata": {
    "collapsed": false,
    "scrolled": true
   },
   "outputs": [
    {
     "name": "stdout",
     "output_type": "stream",
     "text": [
      "[[ 1. -1. -1.  0.  0.  0.  0.  0.  0.  0.]\n",
      " [-1.  0.  0. -1.  1.  0.  0.  0.  0.  0.]\n",
      " [ 0.  0.  0.  0.  0.  0. -1.  0.  1.  1.]\n",
      " [ 0.  1.  0.  0.  0. -1.  0.  0.  0. -1.]\n",
      " [ 0.  0.  1.  0.  0.  0.  0. -1. -1.  0.]\n",
      " [ 0.  0.  0.  0. -1.  0.  0.  0.  0.  0.]\n",
      " [ 0.  0.  0.  0.  0.  0.  1.  0.  0.  0.]\n",
      " [ 0.  0.  0.  1.  0.  1.  0.  1.  0.  0.]]\n"
     ]
    }
   ],
   "source": [
    "print(incidence_matrix(\"A\"))"
   ]
  },
  {
   "cell_type": "code",
   "execution_count": 9,
   "metadata": {
    "collapsed": false
   },
   "outputs": [],
   "source": [
    "import numpy as np\n",
    "x = np.array([3, 1, -1, 1, -3, -7, 3, 3]).reshape(8, 1)\n",
    "y = np.array([4, 1, 0, 2, 7, 0, 3, 1, 2, 0]).reshape(10, 1)\n",
    "c = incidence_matrix(\"A\")*y\n",
    "\n",
    "#use dot() function for multiplication of matrices?"
   ]
  },
  {
   "cell_type": "code",
   "execution_count": 10,
   "metadata": {
    "collapsed": false
   },
   "outputs": [
    {
     "name": "stdout",
     "output_type": "stream",
     "text": [
      "[[ 3.]\n",
      " [ 1.]\n",
      " [-1.]\n",
      " [ 1.]\n",
      " [-3.]\n",
      " [-7.]\n",
      " [ 3.]\n",
      " [ 3.]]\n"
     ]
    }
   ],
   "source": [
    "print(c)"
   ]
  },
  {
   "cell_type": "code",
   "execution_count": 20,
   "metadata": {
    "collapsed": false
   },
   "outputs": [
    {
     "name": "stdout",
     "output_type": "stream",
     "text": [
      "consistent transaction vector\n"
     ]
    }
   ],
   "source": [
    "if x.all() == c.all():\n",
    "    print(\"consistent transaction vector\")\n",
    "else:\n",
    "    print (\"transaction vector inconsistent!\")"
   ]
  },
  {
   "cell_type": "code",
   "execution_count": null,
   "metadata": {
    "collapsed": true
   },
   "outputs": [],
   "source": []
  }
 ],
 "metadata": {
  "anaconda-cloud": {},
  "kernelspec": {
   "display_name": "Python [conda root]",
   "language": "python",
   "name": "conda-root-py"
  },
  "language_info": {
   "codemirror_mode": {
    "name": "ipython",
    "version": 3
   },
   "file_extension": ".py",
   "mimetype": "text/x-python",
   "name": "python",
   "nbconvert_exporter": "python",
   "pygments_lexer": "ipython3",
   "version": "3.5.2"
  }
 },
 "nbformat": 4,
 "nbformat_minor": 1
}
