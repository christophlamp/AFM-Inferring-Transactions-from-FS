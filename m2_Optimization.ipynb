{
 "cells": [
  {
   "cell_type": "code",
   "execution_count": 75,
   "metadata": {
    "collapsed": false
   },
   "outputs": [
    {
     "name": "stdout",
     "output_type": "stream",
     "text": [
      "\u001b[H\u001b[2J"
     ]
    }
   ],
   "source": [
    "clear"
   ]
  },
  {
   "cell_type": "code",
   "execution_count": 76,
   "metadata": {
    "collapsed": true
   },
   "outputs": [],
   "source": [
    "import os"
   ]
  },
  {
   "cell_type": "code",
   "execution_count": 77,
   "metadata": {
    "collapsed": false
   },
   "outputs": [
    {
     "data": {
      "text/plain": [
       "'/Users/chris/Desktop/Dropbox/MasterThesisAFM/Coding'"
      ]
     },
     "execution_count": 77,
     "metadata": {},
     "output_type": "execute_result"
    }
   ],
   "source": [
    "os.chdir(\"/Users/chris/Desktop/Dropbox/MasterThesisAFM/Coding\")\n",
    "os.getcwd()"
   ]
  },
  {
   "cell_type": "code",
   "execution_count": 78,
   "metadata": {
    "collapsed": true
   },
   "outputs": [],
   "source": [
    "import csv"
   ]
  },
  {
   "cell_type": "code",
   "execution_count": 79,
   "metadata": {
    "collapsed": false
   },
   "outputs": [],
   "source": [
    "#CREATE DICTIONARY FOR NODES\n",
    "def reader(filename):\n",
    "    for (lineno, line) in enumerate(open(filename)):\n",
    "        if lineno > 0: # skip header\n",
    "            yield line\n",
    "\n",
    "filename = \"input_nodes.csv\"\n",
    "(l_nodes, nodenames, beg, end, change) = zip(*( row for row in csv.reader(reader(filename))))\n",
    "\n",
    "d_nodes = dict(zip(l_nodes, change))\n",
    "\n",
    "#for k, v in dict_nodes.items():\n",
    "    #print(k,\" \",v)\n",
    "\n"
   ]
  },
  {
   "cell_type": "code",
   "execution_count": 80,
   "metadata": {
    "collapsed": false
   },
   "outputs": [],
   "source": [
    "#{k:int(v) for k, v in dict_nodes.items()} #dictionary comprehension if change needed"
   ]
  },
  {
   "cell_type": "code",
   "execution_count": 81,
   "metadata": {
    "collapsed": true
   },
   "outputs": [],
   "source": [
    "import networkx as nx \n",
    "DG=nx.DiGraph()"
   ]
  },
  {
   "cell_type": "code",
   "execution_count": 82,
   "metadata": {
    "collapsed": false
   },
   "outputs": [
    {
     "name": "stdout",
     "output_type": "stream",
     "text": [
      "from 7Dr to 'T' with capacity = 3\n",
      "from 2Dr to 'T' with capacity = 1\n",
      "from 'S' to 5Cr with capacity = 3\n",
      "from 'S' to 3Dr with capacity = 1\n",
      "from 4Dr to 'T' with capacity = 1\n",
      "from 8Dr to 'T' with capacity = 3\n",
      "from 1Dr to 'T' with capacity = 3\n",
      "from 'S' to 6Cr with capacity = 7\n"
     ]
    }
   ],
   "source": [
    "#ADD SOURCE/SINK EDGES, by definition all nodes are included in edgelist\n",
    "for k, v in d_nodes.items():\n",
    "    \n",
    "    if k.endswith('Cr') or int(v)<0:\n",
    "        DG.add_edge('S',k)\n",
    "        nx.set_edge_attributes(DG, 'capacity', {('S',k): abs(int(v))})\n",
    "        print(\"from 'S' to\", k, \"with capacity =\",abs(int(v)))\n",
    "\n",
    "    if k.endswith('Dr') and int(v)>=0:\n",
    "        DG.add_edge(k,\"T\")\n",
    "        nx.set_edge_attributes(DG, 'capacity', {(k, 'T'): int(v)})\n",
    "        print(\"from\", k,\"to 'T'\",\"with capacity =\",int(v))"
   ]
  },
  {
   "cell_type": "code",
   "execution_count": 83,
   "metadata": {
    "collapsed": false
   },
   "outputs": [
    {
     "data": {
      "text/plain": [
       "[('7Dr', 'T'),\n",
       " ('2Dr', 'T'),\n",
       " ('S', '3Dr'),\n",
       " ('S', '5Cr'),\n",
       " ('S', '6Cr'),\n",
       " ('4Dr', 'T'),\n",
       " ('8Dr', 'T'),\n",
       " ('1Dr', 'T')]"
      ]
     },
     "execution_count": 83,
     "metadata": {},
     "output_type": "execute_result"
    }
   ],
   "source": [
    "nx.edges(DG) #check edges that for source/sink nodes"
   ]
  },
  {
   "cell_type": "code",
   "execution_count": 84,
   "metadata": {
    "collapsed": false
   },
   "outputs": [],
   "source": [
    "#ADD TRANSACTION EDGES\n",
    "def reader(filename2):\n",
    "    for (lineno, line) in enumerate(open(filename2)):\n",
    "        if lineno > 0: # skip header\n",
    "            yield line\n",
    "\n",
    "filename2 = \"input_edges.csv\"\n",
    "(from_, to_) = zip(*( row for row in csv.reader(reader(filename2))))\n",
    "\n",
    "l_edges = list(zip(from_, to_))\n",
    "\n",
    "for f,t in l_edges:\n",
    "    DG.add_edge(f,t)"
   ]
  },
  {
   "cell_type": "code",
   "execution_count": 85,
   "metadata": {
    "collapsed": false
   },
   "outputs": [
    {
     "data": {
      "text/plain": [
       "[('7Dr', 'T'),\n",
       " ('2Dr', '1Dr'),\n",
       " ('2Dr', 'T'),\n",
       " ('2Dr', '8Dr'),\n",
       " ('S', '3Dr'),\n",
       " ('S', '5Cr'),\n",
       " ('S', '6Cr'),\n",
       " ('4Dr', '3Dr'),\n",
       " ('4Dr', '8Dr'),\n",
       " ('4Dr', 'T'),\n",
       " ('3Dr', '7Dr'),\n",
       " ('5Cr', '3Dr'),\n",
       " ('5Cr', '8Dr'),\n",
       " ('8Dr', 'T'),\n",
       " ('6Cr', '2Dr'),\n",
       " ('1Dr', '4Dr'),\n",
       " ('1Dr', 'T'),\n",
       " ('1Dr', '5Cr')]"
      ]
     },
     "execution_count": 85,
     "metadata": {},
     "output_type": "execute_result"
    }
   ],
   "source": [
    "nx.edges(DG) #check edges again"
   ]
  },
  {
   "cell_type": "code",
   "execution_count": 86,
   "metadata": {
    "collapsed": false
   },
   "outputs": [
    {
     "name": "stdout",
     "output_type": "stream",
     "text": [
      "no. of nodes: 10\n",
      "no. of edges: 18\n",
      "maximum flow: 11\n",
      "minimum cut:  11\n"
     ]
    }
   ],
   "source": [
    "print('no. of nodes:',DG.number_of_nodes())\n",
    "print('no. of edges:',DG.number_of_edges())\n",
    "print('maximum flow:',nx.maximum_flow_value(DG, s='S', t='T'))\n",
    "print('minimum cut: ',nx.minimum_cut_value(DG, s=\"S\", t=\"T\"))"
   ]
  },
  {
   "cell_type": "code",
   "execution_count": 87,
   "metadata": {
    "collapsed": false,
    "scrolled": true
   },
   "outputs": [
    {
     "data": {
      "text/plain": [
       "(11,\n",
       " {'1Dr': {'4Dr': 3, '5Cr': 0, 'T': 3},\n",
       "  '2Dr': {'1Dr': 6, '8Dr': 0, 'T': 1},\n",
       "  '3Dr': {'7Dr': 3},\n",
       "  '4Dr': {'3Dr': 2, '8Dr': 0, 'T': 1},\n",
       "  '5Cr': {'3Dr': 0, '8Dr': 3},\n",
       "  '6Cr': {'2Dr': 7},\n",
       "  '7Dr': {'T': 3},\n",
       "  '8Dr': {'T': 3},\n",
       "  'S': {'3Dr': 1, '5Cr': 3, '6Cr': 7},\n",
       "  'T': {}})"
      ]
     },
     "execution_count": 87,
     "metadata": {},
     "output_type": "execute_result"
    }
   ],
   "source": [
    "#run max-flow min cut algorithm\n",
    "data = nx.maximum_flow(DG, s=\"S\", t=\"T\")\n",
    "nx.maximum_flow(DG, s=\"S\", t=\"T\")"
   ]
  },
  {
   "cell_type": "code",
   "execution_count": 88,
   "metadata": {
    "collapsed": true
   },
   "outputs": [],
   "source": [
    "y1 = []"
   ]
  },
  {
   "cell_type": "code",
   "execution_count": 89,
   "metadata": {
    "collapsed": false
   },
   "outputs": [],
   "source": [
    "for x, z in l_edges:\n",
    "    try:\n",
    "        y1.append(data[1][x][z])\n",
    "    except:\n",
    "        pass"
   ]
  },
  {
   "cell_type": "code",
   "execution_count": 90,
   "metadata": {
    "collapsed": false
   },
   "outputs": [
    {
     "name": "stdout",
     "output_type": "stream",
     "text": [
      "1.11.1\n"
     ]
    }
   ],
   "source": [
    "import numpy as np\n",
    "print(np.__version__)\n",
    "\n"
   ]
  },
  {
   "cell_type": "code",
   "execution_count": 91,
   "metadata": {
    "collapsed": false
   },
   "outputs": [
    {
     "name": "stdout",
     "output_type": "stream",
     "text": [
      "[[3]\n",
      " [0]\n",
      " [6]\n",
      " [0]\n",
      " [3]\n",
      " [2]\n",
      " [0]\n",
      " [0]\n",
      " [3]\n",
      " [7]]\n"
     ]
    }
   ],
   "source": [
    "y = np.array(y1).reshape(len(l_edges),1)\n",
    "print(y)"
   ]
  },
  {
   "cell_type": "markdown",
   "metadata": {},
   "source": [
    "***DERIVE INCIDENCE MATRIX***"
   ]
  },
  {
   "cell_type": "code",
   "execution_count": 92,
   "metadata": {
    "collapsed": true
   },
   "outputs": [],
   "source": [
    "def incidence_matrix(A, nodelist=None, edgelist=None, \n",
    "                     oriented=True, weight=None):\n",
    "    if nodelist is None:\n",
    "        nodelist = l_nodes\n",
    "    if edgelist is None:\n",
    "        edgelist = l_edges\n",
    "    A = np.zeros((len(nodelist),len(edgelist)))\n",
    "    node_index = dict( (node,i) for i,node in enumerate(nodelist) )\n",
    "    for ei,e in enumerate(edgelist):\n",
    "        (u,v) = e[:2]\n",
    "        if u == v: continue  # self loops give zero column\n",
    "        try:\n",
    "            ui = node_index[u]\n",
    "            vi = node_index[v]\n",
    "        except KeyError:\n",
    "            raise NetworkXError('node %s or %s in edgelist '\n",
    "                                'but not in nodelist\"%(u,v)')\n",
    "        if weight is None:\n",
    "            wt = 1\n",
    "        else:\n",
    "            if DG.is_multigraph():\n",
    "                ekey = e[2]\n",
    "                wt = DG[u][v][ekey].get(weight,1)\n",
    "            else:\n",
    "                wt = DG[u][v].get(weight,1)\n",
    "        if oriented:\n",
    "            A[ui,ei] = -wt\n",
    "            A[vi,ei] = wt\n",
    "        else:\n",
    "            A[ui,ei] = wt\n",
    "            A[vi,ei] = wt\n",
    "    return np.asmatrix(A)"
   ]
  },
  {
   "cell_type": "code",
   "execution_count": 93,
   "metadata": {
    "collapsed": false,
    "scrolled": true
   },
   "outputs": [
    {
     "name": "stdout",
     "output_type": "stream",
     "text": [
      "[[-1. -1.  1.  0.  0.  0.  0.  0.  0.  0.]\n",
      " [ 0.  0. -1. -1.  0.  0.  0.  0.  0.  1.]\n",
      " [ 0.  0.  0.  0. -1.  1.  0.  1.  0.  0.]\n",
      " [ 1.  0.  0.  0.  0. -1. -1.  0.  0.  0.]\n",
      " [ 0.  1.  0.  0.  0.  0.  0. -1. -1.  0.]\n",
      " [ 0.  0.  0.  0.  0.  0.  0.  0.  0. -1.]\n",
      " [ 0.  0.  0.  0.  1.  0.  0.  0.  0.  0.]\n",
      " [ 0.  0.  0.  1.  0.  0.  1.  0.  1.  0.]]\n"
     ]
    }
   ],
   "source": [
    "print(incidence_matrix(\"A\"))"
   ]
  },
  {
   "cell_type": "markdown",
   "metadata": {},
   "source": [
    "***PERFORM CONSISTENCY CHECK***"
   ]
  },
  {
   "cell_type": "code",
   "execution_count": 94,
   "metadata": {
    "collapsed": false
   },
   "outputs": [
    {
     "name": "stdout",
     "output_type": "stream",
     "text": [
      "[[ 3.]\n",
      " [ 1.]\n",
      " [-1.]\n",
      " [ 1.]\n",
      " [ 3.]\n",
      " [ 7.]\n",
      " [ 3.]\n",
      " [ 3.]]\n"
     ]
    }
   ],
   "source": [
    "#derive vector x\n",
    "int_change = []\n",
    "for value in change:\n",
    "    int_change.append(float(value))\n",
    "    \n",
    "x = np.array(int_change).reshape(len(l_nodes), 1)\n",
    "print(x)"
   ]
  },
  {
   "cell_type": "code",
   "execution_count": 95,
   "metadata": {
    "collapsed": false
   },
   "outputs": [
    {
     "name": "stdout",
     "output_type": "stream",
     "text": [
      "[[ 3.]\n",
      " [ 1.]\n",
      " [-1.]\n",
      " [ 1.]\n",
      " [-3.]\n",
      " [-7.]\n",
      " [ 3.]\n",
      " [ 3.]]\n",
      "inconsistent y\n"
     ]
    }
   ],
   "source": [
    "#check if Ay = x relationship holds\n",
    "Ay = incidence_matrix(\"A\")*y\n",
    "print (Ay)\n",
    "if x.all == Ay.all:\n",
    "    print(\"consistent y\")\n",
    "else:\n",
    "    print(\"inconsistent y\")"
   ]
  }
 ],
 "metadata": {
  "anaconda-cloud": {},
  "kernelspec": {
   "display_name": "Python [conda root]",
   "language": "python",
   "name": "conda-root-py"
  },
  "language_info": {
   "codemirror_mode": {
    "name": "ipython",
    "version": 3
   },
   "file_extension": ".py",
   "mimetype": "text/x-python",
   "name": "python",
   "nbconvert_exporter": "python",
   "pygments_lexer": "ipython3",
   "version": "3.5.2"
  }
 },
 "nbformat": 4,
 "nbformat_minor": 1
}
