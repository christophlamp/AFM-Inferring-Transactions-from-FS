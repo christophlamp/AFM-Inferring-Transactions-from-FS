{
 "cells": [
  {
   "cell_type": "code",
   "execution_count": 41,
   "metadata": {
    "collapsed": false
   },
   "outputs": [
    {
     "name": "stdout",
     "output_type": "stream",
     "text": [
      "1.11\n"
     ]
    }
   ],
   "source": [
    "import networkx as nx\n",
    "print(nx.__version__)"
   ]
  },
  {
   "cell_type": "code",
   "execution_count": 42,
   "metadata": {
    "collapsed": false
   },
   "outputs": [],
   "source": [
    "DG=nx.DiGraph() #create directed graph"
   ]
  },
  {
   "cell_type": "code",
   "execution_count": 43,
   "metadata": {
    "collapsed": false
   },
   "outputs": [],
   "source": [
    "DG.add_nodes_from([\"A1\",\"A2\",\"A3\",\"A4\",\"A5\", \"A6\", \"A7\", \"A8\"]) #create nodes within directed graph"
   ]
  },
  {
   "cell_type": "code",
   "execution_count": 44,
   "metadata": {
    "collapsed": true
   },
   "outputs": [],
   "source": [
    "DG.add_edges_from([(\"A2\",\"A1\"),(\"A1\",\"A4\"),(\"A1\",\"A5\"),(\"A2\",\"A8\"),(\"A6\",\"A2\"),\n",
    "                   (\"A4\",\"A8\"),(\"A3\",\"A7\"),(\"A5\",\"A8\"),(\"A5\",\"A3\"),(\"A4\",\"A3\")]) \n",
    "\n",
    "#add edges without (S) and (T) // important: in Arya(2004) single symbols are labelled differently (i.e. y12 = y21)\n",
    "#Up to this point, all nodes and edges have been added to the directed graph excluding (S) and (T) Next, an incidence matrix (A) is derived from the nodes and edges previously defined"
   ]
  },
  {
   "cell_type": "code",
   "execution_count": 45,
   "metadata": {
    "collapsed": true
   },
   "outputs": [],
   "source": [
    "DG.add_nodes_from([\"S\", \"T\"]) #create start and sink nodes"
   ]
  },
  {
   "cell_type": "code",
   "execution_count": 46,
   "metadata": {
    "collapsed": true
   },
   "outputs": [],
   "source": [
    "DG.add_edges_from([(\"S\",\"A3\"),(\"S\",\"A5\"),(\"S\",\"A6\"),(\"A7\",\"T\"),\n",
    "                   (\"A4\",\"T\"),(\"A1\",\"T\"),(\"A8\",\"T\"),(\"A2\",\"T\")]) #add edges for (S) and (T)"
   ]
  },
  {
   "cell_type": "code",
   "execution_count": 47,
   "metadata": {
    "collapsed": false
   },
   "outputs": [],
   "source": [
    "nx.set_edge_attributes(DG, 'capacity', {('S','A3'): 1.0,(\"S\",\"A5\"): 3.0,(\"S\",\"A6\"): 7.0,(\"A7\",\"T\"): 3.0,\n",
    "                                              (\"A4\",\"T\"): 1.0,(\"A1\",\"T\"): 3.0,(\"A8\",\"T\"): 3.0,(\"A2\",\"T\"): 1.0})\n",
    "# implement capacity constraints on edges including (S) and (T)"
   ]
  },
  {
   "cell_type": "code",
   "execution_count": 54,
   "metadata": {
    "collapsed": false
   },
   "outputs": [
    {
     "data": {
      "text/plain": [
       "10"
      ]
     },
     "execution_count": 54,
     "metadata": {},
     "output_type": "execute_result"
    }
   ],
   "source": [
    "DG.number_of_nodes()\n"
   ]
  },
  {
   "cell_type": "code",
   "execution_count": 55,
   "metadata": {
    "collapsed": false
   },
   "outputs": [
    {
     "data": {
      "text/plain": [
       "18"
      ]
     },
     "execution_count": 55,
     "metadata": {},
     "output_type": "execute_result"
    }
   ],
   "source": [
    "DG.number_of_edges()"
   ]
  },
  {
   "cell_type": "code",
   "execution_count": 48,
   "metadata": {
    "collapsed": false
   },
   "outputs": [
    {
     "data": {
      "text/plain": [
       "11.0"
      ]
     },
     "execution_count": 48,
     "metadata": {},
     "output_type": "execute_result"
    }
   ],
   "source": [
    "nx.maximum_flow_value(DG, s=\"S\", t=\"T\") #maximum flow from source node (S) to sink node (T)"
   ]
  },
  {
   "cell_type": "code",
   "execution_count": 49,
   "metadata": {
    "collapsed": false
   },
   "outputs": [
    {
     "data": {
      "text/plain": [
       "(11.0,\n",
       " {'A1': {'A4': 1.0, 'A5': 0, 'T': 3.0},\n",
       "  'A2': {'A1': 4.0, 'A8': 2.0, 'T': 1.0},\n",
       "  'A3': {'A7': 3.0},\n",
       "  'A4': {'A3': 0, 'A8': 0, 'T': 1.0},\n",
       "  'A5': {'A3': 2.0, 'A8': 1.0},\n",
       "  'A6': {'A2': 7.0},\n",
       "  'A7': {'T': 3.0},\n",
       "  'A8': {'T': 3.0},\n",
       "  'S': {'A3': 1.0, 'A5': 3.0, 'A6': 7.0},\n",
       "  'T': {}})"
      ]
     },
     "execution_count": 49,
     "metadata": {},
     "output_type": "execute_result"
    }
   ],
   "source": [
    "nx.maximum_flow(DG, s=\"S\", t=\"T\")"
   ]
  },
  {
   "cell_type": "code",
   "execution_count": 50,
   "metadata": {
    "collapsed": false
   },
   "outputs": [
    {
     "data": {
      "text/plain": [
       "(11.0, ({'A1', 'A2', 'A3', 'A4', 'A5', 'A6', 'A7', 'A8', 'S'}, {'T'}))"
      ]
     },
     "execution_count": 50,
     "metadata": {},
     "output_type": "execute_result"
    }
   ],
   "source": [
    "nx.minimum_cut(DG, s=\"S\", t=\"T\")"
   ]
  },
  {
   "cell_type": "code",
   "execution_count": 51,
   "metadata": {
    "collapsed": false,
    "scrolled": true
   },
   "outputs": [
    {
     "data": {
      "text/plain": [
       "11.0"
      ]
     },
     "execution_count": 51,
     "metadata": {},
     "output_type": "execute_result"
    }
   ],
   "source": [
    "nx.minimum_cut_value(DG, s=\"S\", t=\"T\")"
   ]
  }
 ],
 "metadata": {
  "anaconda-cloud": {},
  "kernelspec": {
   "display_name": "Python [conda root]",
   "language": "python",
   "name": "conda-root-py"
  },
  "language_info": {
   "codemirror_mode": {
    "name": "ipython",
    "version": 3
   },
   "file_extension": ".py",
   "mimetype": "text/x-python",
   "name": "python",
   "nbconvert_exporter": "python",
   "pygments_lexer": "ipython3",
   "version": "3.5.2"
  }
 },
 "nbformat": 4,
 "nbformat_minor": 1
}
