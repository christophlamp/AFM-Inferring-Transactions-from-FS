{
 "cells": [
  {
   "cell_type": "code",
   "execution_count": 89,
   "metadata": {
    "collapsed": false
   },
   "outputs": [
    {
     "name": "stdout",
     "output_type": "stream",
     "text": [
      "\u001b[H\u001b[2J"
     ]
    }
   ],
   "source": [
    "clear"
   ]
  },
  {
   "cell_type": "code",
   "execution_count": 90,
   "metadata": {
    "collapsed": true
   },
   "outputs": [],
   "source": [
    "import os"
   ]
  },
  {
   "cell_type": "code",
   "execution_count": 91,
   "metadata": {
    "collapsed": false
   },
   "outputs": [
    {
     "data": {
      "text/plain": [
       "'/Users/chris/Desktop/Dropbox/MasterThesisAFM/Coding'"
      ]
     },
     "execution_count": 91,
     "metadata": {},
     "output_type": "execute_result"
    }
   ],
   "source": [
    "os.chdir(\"/Users/chris/Desktop/Dropbox/MasterThesisAFM/Coding\")\n",
    "os.getcwd()"
   ]
  },
  {
   "cell_type": "code",
   "execution_count": 92,
   "metadata": {
    "collapsed": true
   },
   "outputs": [],
   "source": [
    "import csv"
   ]
  },
  {
   "cell_type": "code",
   "execution_count": 93,
   "metadata": {
    "collapsed": false
   },
   "outputs": [],
   "source": [
    "#CREATE DICTIONARY FOR NODES\n",
    "def reader(filename):\n",
    "    for (lineno, line) in enumerate(open(filename)):\n",
    "        if lineno > 0: # skip header\n",
    "            yield line\n",
    "\n",
    "filename = \"coldwater_nodes.csv\"\n",
    "(l_nodes, nodenames, beg, end, change) = zip(*( row for row in csv.reader(reader(filename))))\n",
    "\n",
    "d_nodes = dict(zip(l_nodes, change))\n",
    "\n",
    "#for k, v in d_nodes.items():\n",
    "    #print(k,\" \",v)\n",
    "\n"
   ]
  },
  {
   "cell_type": "code",
   "execution_count": 94,
   "metadata": {
    "collapsed": false
   },
   "outputs": [],
   "source": [
    "#{k:int(v) for k, v in dict_nodes.items()} #dictionary comprehension if change needed"
   ]
  },
  {
   "cell_type": "code",
   "execution_count": 95,
   "metadata": {
    "collapsed": true
   },
   "outputs": [],
   "source": [
    "import networkx as nx \n",
    "DG=nx.DiGraph()"
   ]
  },
  {
   "cell_type": "code",
   "execution_count": 96,
   "metadata": {
    "collapsed": false
   },
   "outputs": [
    {
     "name": "stdout",
     "output_type": "stream",
     "text": [
      "from 'S' to A1 with capacity = 8764\n",
      "from 'S' to A13 with capacity = 843\n",
      "from 'S' to A14 with capacity = 145\n",
      "from A7 to 'T' with capacity = 6581\n",
      "from 'S' to A19 with capacity = 246697\n",
      "from 'S' to A10 with capacity = 9214\n",
      "from A4 to 'T' with capacity = 2273\n",
      "from A8 to 'T' with capacity = 1620\n",
      "from A22 to 'T' with capacity = 57\n",
      "from A2 to 'T' with capacity = 1677\n",
      "from 'S' to A11 with capacity = 4548\n",
      "from 'S' to A9 with capacity = 10264\n",
      "from A21 to 'T' with capacity = 107083\n",
      "from A5 to 'T' with capacity = 1419\n",
      "from A3 to 'T' with capacity = 27772\n",
      "from A20 to 'T' with capacity = 120126\n",
      "from A23 to 'T' with capacity = 7857\n",
      "from A6 to 'T' with capacity = 3673\n",
      "from A12 to 'T' with capacity = 451\n"
     ]
    }
   ],
   "source": [
    "#ADD SOURCE/SINK EDGES, by definition all nodes are included in edgelist\n",
    "for k, v in d_nodes.items():\n",
    "    \n",
    "    if int(v)<0:\n",
    "        DG.add_edge('S',k)\n",
    "        nx.set_edge_attributes(DG, 'capacity', {('S',k): abs(int(v))})\n",
    "        print(\"from 'S' to\", k, \"with capacity =\",abs(int(v)))\n",
    "\n",
    "    if int(v)>0:\n",
    "        DG.add_edge(k,\"T\")\n",
    "        nx.set_edge_attributes(DG, 'capacity', {(k, 'T'): abs(int(v))})\n",
    "        print(\"from\", k,\"to 'T'\",\"with capacity =\",int(v))"
   ]
  },
  {
   "cell_type": "code",
   "execution_count": 97,
   "metadata": {
    "collapsed": false
   },
   "outputs": [],
   "source": [
    "#nx.edges(DG) #check edges that for source/sink nodes"
   ]
  },
  {
   "cell_type": "code",
   "execution_count": 98,
   "metadata": {
    "collapsed": false
   },
   "outputs": [],
   "source": [
    "#ADD TRANSACTION EDGES\n",
    "def reader(filename2):\n",
    "    for (lineno, line) in enumerate(open(filename2)):\n",
    "        if lineno > 0: # skip header\n",
    "            yield line\n",
    "\n",
    "filename2 = \"coldwater_edges.csv\"\n",
    "(from_, to_) = zip(*( row for row in csv.reader(reader(filename2))))\n",
    "\n",
    "l_edges = list(zip(from_, to_))\n",
    "\n",
    "for f,t in l_edges:\n",
    "    DG.add_edge(f,t)\n",
    "    DG.edge[f][t]['capacity'] = 9999999999\n",
    "  "
   ]
  },
  {
   "cell_type": "code",
   "execution_count": 99,
   "metadata": {
    "collapsed": false
   },
   "outputs": [
    {
     "data": {
      "text/plain": [
       "[('A1', 'A7'),\n",
       " ('A1', 'A10'),\n",
       " ('A1', 'A4'),\n",
       " ('A1', 'A8'),\n",
       " ('A1', 'A11'),\n",
       " ('A1', 'A12'),\n",
       " ('A2', 'T'),\n",
       " ('A2', 'A1'),\n",
       " ('A7', 'T'),\n",
       " ('A7', 'A21'),\n",
       " ('A19', 'A2'),\n",
       " ('A10', 'A21'),\n",
       " ('A10', 'A3'),\n",
       " ('A4', 'T'),\n",
       " ('A4', 'A21'),\n",
       " ('A8', 'T'),\n",
       " ('A22', 'T'),\n",
       " ('A22', 'A8'),\n",
       " ('A22', 'A21'),\n",
       " ('A13', 'A23'),\n",
       " ('A13', 'A14'),\n",
       " ('A11', 'A21'),\n",
       " ('A14', 'A23'),\n",
       " ('A21', 'T'),\n",
       " ('A5', 'T'),\n",
       " ('A5', 'A6'),\n",
       " ('A5', 'A11'),\n",
       " ('A3', 'T'),\n",
       " ('A3', 'A20'),\n",
       " ('S', 'A1'),\n",
       " ('S', 'A9'),\n",
       " ('S', 'A19'),\n",
       " ('S', 'A10'),\n",
       " ('S', 'A13'),\n",
       " ('S', 'A11'),\n",
       " ('S', 'A14'),\n",
       " ('A6', 'T'),\n",
       " ('A6', 'A21'),\n",
       " ('A20', 'T'),\n",
       " ('A9', 'A1'),\n",
       " ('A9', 'A22'),\n",
       " ('A23', 'T'),\n",
       " ('A12', 'T'),\n",
       " ('A12', 'A13'),\n",
       " ('A12', 'A23')]"
      ]
     },
     "execution_count": 99,
     "metadata": {},
     "output_type": "execute_result"
    }
   ],
   "source": [
    "nx.edges(DG) #check edges"
   ]
  },
  {
   "cell_type": "code",
   "execution_count": 100,
   "metadata": {
    "collapsed": false
   },
   "outputs": [
    {
     "name": "stdout",
     "output_type": "stream",
     "text": [
      "no. of nodes: 21\n",
      "no. of edges: 45\n",
      "maximum flow: 275497\n",
      "minimum cut:  275497\n"
     ]
    }
   ],
   "source": [
    "print('no. of nodes:',DG.number_of_nodes())\n",
    "print('no. of edges:',DG.number_of_edges())\n",
    "print('maximum flow:',nx.maximum_flow_value(DG, s='S', t='T'))\n",
    "print('minimum cut: ',nx.minimum_cut_value(DG, s=\"S\", t=\"T\"))"
   ]
  },
  {
   "cell_type": "code",
   "execution_count": 101,
   "metadata": {
    "collapsed": false,
    "scrolled": true
   },
   "outputs": [
    {
     "data": {
      "text/plain": [
       "(275497,\n",
       " {'A1': {'A10': 147898,\n",
       "   'A11': 0,\n",
       "   'A12': 8308,\n",
       "   'A4': 2273,\n",
       "   'A7': 91315,\n",
       "   'A8': 0},\n",
       "  'A10': {'A21': 9214, 'A3': 147898},\n",
       "  'A11': {'A21': 4548},\n",
       "  'A12': {'A13': 988, 'A23': 6869, 'T': 451},\n",
       "  'A13': {'A14': 145, 'A23': 843},\n",
       "  'A14': {'A23': 145},\n",
       "  'A19': {'A2': 246697},\n",
       "  'A2': {'A1': 245020, 'T': 1677},\n",
       "  'A20': {'T': 120126},\n",
       "  'A21': {'T': 107083},\n",
       "  'A22': {'A21': 8587, 'A8': 1620, 'T': 57},\n",
       "  'A23': {'T': 7857},\n",
       "  'A3': {'A20': 120126, 'T': 27772},\n",
       "  'A4': {'A21': 0, 'T': 2273},\n",
       "  'A5': {'A11': 0, 'A6': 0, 'T': 0},\n",
       "  'A6': {'A21': 0, 'T': 0},\n",
       "  'A7': {'A21': 84734, 'T': 6581},\n",
       "  'A8': {'T': 1620},\n",
       "  'A9': {'A1': 0, 'A22': 10264},\n",
       "  'S': {'A1': 4774,\n",
       "   'A10': 9214,\n",
       "   'A11': 4548,\n",
       "   'A13': 0,\n",
       "   'A14': 0,\n",
       "   'A19': 246697,\n",
       "   'A9': 10264},\n",
       "  'T': {}})"
      ]
     },
     "execution_count": 101,
     "metadata": {},
     "output_type": "execute_result"
    }
   ],
   "source": [
    "#run max-flow min cut algorithm\n",
    "data = nx.maximum_flow(DG, s=\"S\", t=\"T\")\n",
    "nx.maximum_flow(DG, s=\"S\", t=\"T\")"
   ]
  },
  {
   "cell_type": "code",
   "execution_count": 102,
   "metadata": {
    "collapsed": true
   },
   "outputs": [],
   "source": [
    "y1 = []"
   ]
  },
  {
   "cell_type": "code",
   "execution_count": 103,
   "metadata": {
    "collapsed": false
   },
   "outputs": [],
   "source": [
    "for x, z in l_edges:\n",
    "    try:\n",
    "        y1.append(data[1][x][z])\n",
    "    except:\n",
    "        pass"
   ]
  },
  {
   "cell_type": "code",
   "execution_count": 104,
   "metadata": {
    "collapsed": false
   },
   "outputs": [
    {
     "name": "stdout",
     "output_type": "stream",
     "text": [
      "1.11.1\n"
     ]
    }
   ],
   "source": [
    "import numpy as np\n",
    "print(np.__version__)\n",
    "\n"
   ]
  },
  {
   "cell_type": "code",
   "execution_count": 105,
   "metadata": {
    "collapsed": false
   },
   "outputs": [
    {
     "name": "stdout",
     "output_type": "stream",
     "text": [
      "[[245020]\n",
      " [147898]\n",
      " [     0]\n",
      " [  2273]\n",
      " [ 91315]\n",
      " [  8308]\n",
      " [     0]\n",
      " [     0]\n",
      " [246697]\n",
      " [  9214]\n",
      " [120126]\n",
      " [     0]\n",
      " [  4548]\n",
      " [     0]\n",
      " [ 84734]\n",
      " [  6869]\n",
      " [   843]\n",
      " [   145]\n",
      " [  1620]\n",
      " [ 10264]\n",
      " [   145]\n",
      " [   988]\n",
      " [     0]\n",
      " [     0]\n",
      " [147898]\n",
      " [  8587]]\n"
     ]
    }
   ],
   "source": [
    "y = np.array(y1).reshape(len(l_edges),1)\n",
    "print(y)"
   ]
  },
  {
   "cell_type": "markdown",
   "metadata": {},
   "source": [
    "***DERIVE INCIDENCE MATRIX***"
   ]
  },
  {
   "cell_type": "code",
   "execution_count": 106,
   "metadata": {
    "collapsed": true
   },
   "outputs": [],
   "source": [
    "def incidence_matrix(A, nodelist=None, edgelist=None, \n",
    "                     oriented=True, weight=None):\n",
    "    if nodelist is None:\n",
    "        nodelist = l_nodes\n",
    "    if edgelist is None:\n",
    "        edgelist = l_edges\n",
    "    A = np.zeros((len(nodelist),len(edgelist)))\n",
    "    node_index = dict( (node,i) for i,node in enumerate(nodelist) )\n",
    "    for ei,e in enumerate(edgelist):\n",
    "        (u,v) = e[:2]\n",
    "        if u == v: continue  # self loops give zero column\n",
    "        try:\n",
    "            ui = node_index[u]\n",
    "            vi = node_index[v]\n",
    "        except KeyError:\n",
    "            raise NetworkXError('node %s or %s in edgelist '\n",
    "                                'but not in nodelist\"%(u,v)')\n",
    "        if weight is None:\n",
    "            wt = 1\n",
    "        else:\n",
    "            if DG.is_multigraph():\n",
    "                ekey = e[2]\n",
    "                wt = DG[u][v][ekey].get(weight,1)\n",
    "            else:\n",
    "                wt = DG[u][v].get(weight,1)\n",
    "        if oriented:\n",
    "            A[ui,ei] = -wt\n",
    "            A[vi,ei] = wt\n",
    "        else:\n",
    "            A[ui,ei] = wt\n",
    "            A[vi,ei] = wt\n",
    "    return np.asmatrix(A)"
   ]
  },
  {
   "cell_type": "code",
   "execution_count": 107,
   "metadata": {
    "collapsed": false,
    "scrolled": true
   },
   "outputs": [
    {
     "name": "stdout",
     "output_type": "stream",
     "text": [
      "[[ 1. -1. -1. -1. -1. -1. -1.  1.  0.  0.  0.  0.  0.  0.  0.  0.  0.  0.\n",
      "   0.  0.  0.  0.  0.  0.  0.  0.]\n",
      " [-1.  0.  0.  0.  0.  0.  0.  0.  1.  0.  0.  0.  0.  0.  0.  0.  0.  0.\n",
      "   0.  0.  0.  0.  0.  0.  0.  0.]\n",
      " [ 0.  0.  0.  0.  0.  0.  0.  0.  0.  0. -1.  0.  0.  0.  0.  0.  0.  0.\n",
      "   0.  0.  0.  0.  0.  0.  1.  0.]\n",
      " [ 0.  0.  0.  1.  0.  0.  0.  0.  0.  0.  0.  0.  0. -1.  0.  0.  0.  0.\n",
      "   0.  0.  0.  0.  0.  0.  0.  0.]\n",
      " [ 0.  0.  0.  0.  0.  0.  0.  0.  0.  0.  0.  0.  0.  0.  0.  0.  0.  0.\n",
      "   0.  0.  0.  0. -1. -1.  0.  0.]\n",
      " [ 0.  0.  0.  0.  0.  0.  0.  0.  0.  0.  0. -1.  0.  0.  0.  0.  0.  0.\n",
      "   0.  0.  0.  0.  0.  1.  0.  0.]\n",
      " [ 0.  0.  0.  0.  1.  0.  0.  0.  0.  0.  0.  0.  0.  0. -1.  0.  0.  0.\n",
      "   0.  0.  0.  0.  0.  0.  0.  0.]\n",
      " [ 0.  0.  0.  0.  0.  0.  1.  0.  0.  0.  0.  0.  0.  0.  0.  0.  0.  0.\n",
      "   1.  0.  0.  0.  0.  0.  0.  0.]\n",
      " [ 0.  0.  0.  0.  0.  0.  0. -1.  0.  0.  0.  0.  0.  0.  0.  0.  0.  0.\n",
      "   0. -1.  0.  0.  0.  0.  0.  0.]\n",
      " [ 0.  1.  0.  0.  0.  0.  0.  0.  0. -1.  0.  0.  0.  0.  0.  0.  0.  0.\n",
      "   0.  0.  0.  0.  0.  0. -1.  0.]\n",
      " [ 0.  0.  1.  0.  0.  0.  0.  0.  0.  0.  0.  0. -1.  0.  0.  0.  0.  0.\n",
      "   0.  0.  0.  0.  1.  0.  0.  0.]\n",
      " [ 0.  0.  0.  0.  0.  1.  0.  0.  0.  0.  0.  0.  0.  0.  0. -1.  0.  0.\n",
      "   0.  0.  0. -1.  0.  0.  0.  0.]\n",
      " [ 0.  0.  0.  0.  0.  0.  0.  0.  0.  0.  0.  0.  0.  0.  0.  0. -1.  0.\n",
      "   0.  0. -1.  1.  0.  0.  0.  0.]\n",
      " [ 0.  0.  0.  0.  0.  0.  0.  0.  0.  0.  0.  0.  0.  0.  0.  0.  0. -1.\n",
      "   0.  0.  1.  0.  0.  0.  0.  0.]\n",
      " [ 0.  0.  0.  0.  0.  0.  0.  0. -1.  0.  0.  0.  0.  0.  0.  0.  0.  0.\n",
      "   0.  0.  0.  0.  0.  0.  0.  0.]\n",
      " [ 0.  0.  0.  0.  0.  0.  0.  0.  0.  0.  1.  0.  0.  0.  0.  0.  0.  0.\n",
      "   0.  0.  0.  0.  0.  0.  0.  0.]\n",
      " [ 0.  0.  0.  0.  0.  0.  0.  0.  0.  1.  0.  1.  1.  1.  1.  0.  0.  0.\n",
      "   0.  0.  0.  0.  0.  0.  0.  1.]\n",
      " [ 0.  0.  0.  0.  0.  0.  0.  0.  0.  0.  0.  0.  0.  0.  0.  0.  0.  0.\n",
      "  -1.  1.  0.  0.  0.  0.  0. -1.]\n",
      " [ 0.  0.  0.  0.  0.  0.  0.  0.  0.  0.  0.  0.  0.  0.  0.  1.  1.  1.\n",
      "   0.  0.  0.  0.  0.  0.  0.  0.]]\n"
     ]
    }
   ],
   "source": [
    "A = incidence_matrix(\"A\")\n",
    "print(A)"
   ]
  },
  {
   "cell_type": "markdown",
   "metadata": {},
   "source": [
    "***PERFORM CONSISTENCY CHECK***"
   ]
  },
  {
   "cell_type": "code",
   "execution_count": 108,
   "metadata": {
    "collapsed": false
   },
   "outputs": [
    {
     "name": "stdout",
     "output_type": "stream",
     "text": [
      "[[  -8764]\n",
      " [   1677]\n",
      " [  27772]\n",
      " [   2273]\n",
      " [   1419]\n",
      " [   3673]\n",
      " [   6581]\n",
      " [   1620]\n",
      " [ -10264]\n",
      " [  -9214]\n",
      " [  -4548]\n",
      " [    451]\n",
      " [   -843]\n",
      " [   -145]\n",
      " [-246697]\n",
      " [ 120126]\n",
      " [ 107083]\n",
      " [     57]\n",
      " [   7857]]\n"
     ]
    }
   ],
   "source": [
    "#derive vector x\n",
    "int_change = []\n",
    "for value in change:\n",
    "    int_change.append(int(value))\n",
    "    \n",
    "x = np.array(int_change).reshape(len(l_nodes), 1)\n",
    "print(x)"
   ]
  },
  {
   "cell_type": "code",
   "execution_count": 109,
   "metadata": {
    "collapsed": false
   },
   "outputs": [
    {
     "name": "stdout",
     "output_type": "stream",
     "text": [
      "[[  -4774.]\n",
      " [   1677.]\n",
      " [  27772.]\n",
      " [   2273.]\n",
      " [      0.]\n",
      " [      0.]\n",
      " [   6581.]\n",
      " [   1620.]\n",
      " [ -10264.]\n",
      " [  -9214.]\n",
      " [  -4548.]\n",
      " [    451.]\n",
      " [      0.]\n",
      " [      0.]\n",
      " [-246697.]\n",
      " [ 120126.]\n",
      " [ 107083.]\n",
      " [     57.]\n",
      " [   7857.]]\n"
     ]
    }
   ],
   "source": [
    "#check if Ay = x relationship holds\n",
    "Ay = incidence_matrix(\"A\")*y\n",
    "np.set_printoptions(suppress=True)\n",
    "print(Ay)"
   ]
  },
  {
   "cell_type": "code",
   "execution_count": 22,
   "metadata": {
    "collapsed": false
   },
   "outputs": [],
   "source": [
    "#test = np.subtract(Ay, x)\n",
    "#print(test)"
   ]
  },
  {
   "cell_type": "code",
   "execution_count": 23,
   "metadata": {
    "collapsed": false
   },
   "outputs": [
    {
     "name": "stdout",
     "output_type": "stream",
     "text": [
      "inconsistent y\n"
     ]
    }
   ],
   "source": [
    "if x.all == Ay.all:\n",
    "    print(\"consistent y\")\n",
    "else:\n",
    "    print(\"inconsistent y\")"
   ]
  },
  {
   "cell_type": "code",
   "execution_count": 45,
   "metadata": {
    "collapsed": false
   },
   "outputs": [
    {
     "data": {
      "text/plain": [
       "99999999"
      ]
     },
     "execution_count": 45,
     "metadata": {},
     "output_type": "execute_result"
    }
   ],
   "source": [
    " "
   ]
  },
  {
   "cell_type": "code",
   "execution_count": null,
   "metadata": {
    "collapsed": true
   },
   "outputs": [],
   "source": []
  }
 ],
 "metadata": {
  "anaconda-cloud": {},
  "kernelspec": {
   "display_name": "Python [conda root]",
   "language": "python",
   "name": "conda-root-py"
  },
  "language_info": {
   "codemirror_mode": {
    "name": "ipython",
    "version": 3
   },
   "file_extension": ".py",
   "mimetype": "text/x-python",
   "name": "python",
   "nbconvert_exporter": "python",
   "pygments_lexer": "ipython3",
   "version": "3.5.2"
  }
 },
 "nbformat": 4,
 "nbformat_minor": 1
}
