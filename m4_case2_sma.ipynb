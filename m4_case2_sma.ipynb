{
 "cells": [
  {
   "cell_type": "code",
   "execution_count": 38,
   "metadata": {
    "collapsed": false
   },
   "outputs": [
    {
     "name": "stdout",
     "output_type": "stream",
     "text": [
      "\u001b[H\u001b[2J"
     ]
    }
   ],
   "source": [
    "clear"
   ]
  },
  {
   "cell_type": "code",
   "execution_count": 39,
   "metadata": {
    "collapsed": true
   },
   "outputs": [],
   "source": [
    "import os"
   ]
  },
  {
   "cell_type": "code",
   "execution_count": 40,
   "metadata": {
    "collapsed": false
   },
   "outputs": [
    {
     "data": {
      "text/plain": [
       "'/Users/chris/Desktop/Dropbox/MasterThesisAFM/Coding'"
      ]
     },
     "execution_count": 40,
     "metadata": {},
     "output_type": "execute_result"
    }
   ],
   "source": [
    "os.chdir(\"/Users/chris/Desktop/Dropbox/MasterThesisAFM/Coding\")\n",
    "os.getcwd()"
   ]
  },
  {
   "cell_type": "code",
   "execution_count": 41,
   "metadata": {
    "collapsed": true
   },
   "outputs": [],
   "source": [
    "import csv"
   ]
  },
  {
   "cell_type": "code",
   "execution_count": 42,
   "metadata": {
    "collapsed": false
   },
   "outputs": [],
   "source": [
    "#CREATE DICTIONARY FOR NODES\n",
    "def reader(filename):\n",
    "    for (lineno, line) in enumerate(open(filename)):\n",
    "        if lineno > 0: # skip header\n",
    "            yield line\n",
    "\n",
    "filename = \"input_nodes_sma.csv\"\n",
    "(l_nodes, nodenames, beg, end, change) = zip(*( row for row in csv.reader(reader(filename))))\n",
    "\n",
    "d_nodes = dict(zip(l_nodes, change))"
   ]
  },
  {
   "cell_type": "code",
   "execution_count": 43,
   "metadata": {
    "collapsed": true
   },
   "outputs": [],
   "source": [
    "import networkx as nx \n",
    "DG=nx.DiGraph()"
   ]
  },
  {
   "cell_type": "code",
   "execution_count": 44,
   "metadata": {
    "collapsed": false
   },
   "outputs": [
    {
     "name": "stdout",
     "output_type": "stream",
     "text": [
      "from 'S' to A1 with capacity = 3090\n",
      "from A2 to 'T' with capacity = 5140\n",
      "from A3 to 'T' with capacity = 33872\n",
      "from A4 to 'T' with capacity = 10328\n",
      "from A5 to 'T' with capacity = 15117\n",
      "from A6 to 'T' with capacity = 48415\n",
      "from A7 to 'T' with capacity = 7205\n",
      "from A8 to 'T' with capacity = 273\n",
      "from A9 to 'T' with capacity = 430\n",
      "from A10 to 'T' with capacity = 5545\n",
      "from A11 to 'T' with capacity = 59007\n",
      "from 'S' to A12 with capacity = 2505\n",
      "from 'S' to A13 with capacity = 88689\n",
      "from 'S' to A14 with capacity = 4864\n",
      "from 'S' to A15 with capacity = 37192\n",
      "from 'S' to A16 with capacity = 744984\n",
      "from A17 to 'T' with capacity = 2860\n",
      "from A19 to 'T' with capacity = 412120\n",
      "from A20 to 'T' with capacity = 124606\n",
      "from A21 to 'T' with capacity = 37450\n",
      "from A22 to 'T' with capacity = 105588\n",
      "from 'S' to A23 with capacity = 4486\n",
      "from A24 to 'T' with capacity = 17854\n"
     ]
    }
   ],
   "source": [
    "#ADD SOURCE/SINK EDGES, by definition all nodes are included in edgelist\n",
    "for k, v in d_nodes.items():\n",
    "    \n",
    "    if int(v)<0:\n",
    "        DG.add_edge('S',k)\n",
    "        nx.set_edge_attributes(DG, 'capacity', {('S',k): abs(int(v))})\n",
    "        print(\"from 'S' to\", k, \"with capacity =\",abs(int(v)))\n",
    "\n",
    "    if int(v)>0:\n",
    "        DG.add_edge(k,\"T\")\n",
    "        nx.set_edge_attributes(DG, 'capacity', {(k, 'T'): abs(int(v))})\n",
    "        print(\"from\", k,\"to 'T'\",\"with capacity =\",int(v))"
   ]
  },
  {
   "cell_type": "code",
   "execution_count": 45,
   "metadata": {
    "collapsed": false
   },
   "outputs": [],
   "source": [
    "#nx.edges(DG) #check edges that for source/sink nodes"
   ]
  },
  {
   "cell_type": "code",
   "execution_count": 46,
   "metadata": {
    "collapsed": false
   },
   "outputs": [],
   "source": [
    "#ADD TRANSACTION EDGES\n",
    "def reader(filename2):\n",
    "    for (lineno, line) in enumerate(open(filename2)):\n",
    "        if lineno > 0: # skip header\n",
    "            yield line\n",
    "\n",
    "filename2 = \"input_edges_sma.csv\"\n",
    "(from_, to_) = zip(*( row for row in csv.reader(reader(filename2))))\n",
    "\n",
    "l_edges = list(zip(from_, to_))\n",
    "\n",
    "for f,t in l_edges:\n",
    "    DG.add_edge(f,t)\n",
    "    DG.edge[f][t]['capacity'] = 9999999999\n",
    "  "
   ]
  },
  {
   "cell_type": "code",
   "execution_count": 47,
   "metadata": {
    "collapsed": false
   },
   "outputs": [
    {
     "name": "stdout",
     "output_type": "stream",
     "text": [
      "no. of nodes: 25\n",
      "no. of edges: 57\n",
      "maximum flow: 885810\n",
      "minimum cut:  885810\n"
     ]
    }
   ],
   "source": [
    "print('no. of nodes:',DG.number_of_nodes())\n",
    "print('no. of edges:',DG.number_of_edges())\n",
    "print('maximum flow:',nx.maximum_flow_value(DG, s='S', t='T'))\n",
    "print('minimum cut: ',nx.minimum_cut_value(DG, s=\"S\", t=\"T\"))"
   ]
  },
  {
   "cell_type": "code",
   "execution_count": 48,
   "metadata": {
    "collapsed": false,
    "scrolled": true
   },
   "outputs": [
    {
     "data": {
      "text/plain": [
       "(885810,\n",
       " {'A1': {'A21': 3090},\n",
       "  'A10': {'A7': 739439, 'T': 5545},\n",
       "  'A11': {'A1': 0, 'A2': 39500, 'A3': 151605, 'A4': 0, 'T': 59007},\n",
       "  'A12': {'A4': 2505},\n",
       "  'A13': {'A22': 88689, 'A24': 17854},\n",
       "  'A14': {'A22': 4864},\n",
       "  'A15': {'A14': 0, 'A20': 124606},\n",
       "  'A16': {'A10': 744984, 'A5': 0},\n",
       "  'A17': {'T': 2860},\n",
       "  'A19': {'T': 412120},\n",
       "  'A2': {'A21': 34360, 'T': 5140},\n",
       "  'A20': {'T': 124606},\n",
       "  'A21': {'T': 37450},\n",
       "  'A22': {'T': 105588},\n",
       "  'A23': {'A7': 4486},\n",
       "  'A24': {'T': 17854},\n",
       "  'A3': {'A21': 0, 'A7': 117733, 'T': 33872},\n",
       "  'A4': {'A17': 2860, 'A19': 412120, 'A5': 15117, 'T': 10328},\n",
       "  'A5': {'A7': 0, 'T': 15117},\n",
       "  'A6': {'A7': 0, 'T': 48415},\n",
       "  'A7': {'A11': 0,\n",
       "   'A12': 0,\n",
       "   'A13': 17854,\n",
       "   'A15': 87414,\n",
       "   'A4': 437920,\n",
       "   'A6': 48415,\n",
       "   'A8': 250385,\n",
       "   'A9': 12465,\n",
       "   'T': 7205},\n",
       "  'A8': {'A11': 250112, 'T': 273},\n",
       "  'A9': {'A22': 12035, 'A7': 0, 'T': 430},\n",
       "  'S': {'A1': 3090,\n",
       "   'A12': 2505,\n",
       "   'A13': 88689,\n",
       "   'A14': 4864,\n",
       "   'A15': 37192,\n",
       "   'A16': 744984,\n",
       "   'A23': 4486},\n",
       "  'T': {}})"
      ]
     },
     "execution_count": 48,
     "metadata": {},
     "output_type": "execute_result"
    }
   ],
   "source": [
    "#run max-flow min cut algorithm\n",
    "data = nx.maximum_flow(DG, s=\"S\", t=\"T\")\n",
    "nx.maximum_flow(DG, s=\"S\", t=\"T\")"
   ]
  },
  {
   "cell_type": "code",
   "execution_count": 49,
   "metadata": {
    "collapsed": true
   },
   "outputs": [],
   "source": [
    "y1 = []"
   ]
  },
  {
   "cell_type": "code",
   "execution_count": 50,
   "metadata": {
    "collapsed": false
   },
   "outputs": [],
   "source": [
    "for x, z in l_edges:\n",
    "    try:\n",
    "        y1.append(data[1][x][z])\n",
    "    except:\n",
    "        pass"
   ]
  },
  {
   "cell_type": "code",
   "execution_count": 51,
   "metadata": {
    "collapsed": false
   },
   "outputs": [
    {
     "name": "stdout",
     "output_type": "stream",
     "text": [
      "1.11.3\n"
     ]
    }
   ],
   "source": [
    "import numpy as np\n",
    "print(np.__version__)\n",
    "\n"
   ]
  },
  {
   "cell_type": "code",
   "execution_count": 52,
   "metadata": {
    "collapsed": false
   },
   "outputs": [
    {
     "name": "stdout",
     "output_type": "stream",
     "text": [
      "[[     0]\n",
      " [  3090]\n",
      " [ 39500]\n",
      " [ 34360]\n",
      " [151605]\n",
      " [  4486]\n",
      " [117733]\n",
      " [     0]\n",
      " [     0]\n",
      " [437920]\n",
      " [  2860]\n",
      " [ 15117]\n",
      " [ 48415]\n",
      " [     0]\n",
      " [250385]\n",
      " [250112]\n",
      " [     0]\n",
      " [ 12465]\n",
      " [ 12035]\n",
      " [739439]\n",
      " [744984]\n",
      " [     0]\n",
      " [  2505]\n",
      " [     0]\n",
      " [ 88689]\n",
      " [ 17854]\n",
      " [  4864]\n",
      " [     0]\n",
      " [     0]\n",
      " [412120]\n",
      " [124606]\n",
      " [ 87414]\n",
      " [ 17854]\n",
      " [     0]]\n"
     ]
    }
   ],
   "source": [
    "y = np.array(y1).reshape(len(l_edges),1)\n",
    "print(y)"
   ]
  },
  {
   "cell_type": "markdown",
   "metadata": {},
   "source": [
    "***DERIVE INCIDENCE MATRIX***"
   ]
  },
  {
   "cell_type": "code",
   "execution_count": 53,
   "metadata": {
    "collapsed": true
   },
   "outputs": [],
   "source": [
    "def incidence_matrix(A, nodelist=None, edgelist=None, \n",
    "                     oriented=True, weight=None):\n",
    "    if nodelist is None:\n",
    "        nodelist = l_nodes\n",
    "    if edgelist is None:\n",
    "        edgelist = l_edges\n",
    "    A = np.zeros((len(nodelist),len(edgelist)))\n",
    "    node_index = dict( (node,i) for i,node in enumerate(nodelist) )\n",
    "    for ei,e in enumerate(edgelist):\n",
    "        (u,v) = e[:2]\n",
    "        if u == v: continue  # self loops give zero column\n",
    "        try:\n",
    "            ui = node_index[u]\n",
    "            vi = node_index[v]\n",
    "        except KeyError:\n",
    "            raise NetworkXError('node %s or %s in edgelist '\n",
    "                                'but not in nodelist\"%(u,v)')\n",
    "        if weight is None:\n",
    "            wt = 1\n",
    "        else:\n",
    "            if DG.is_multigraph():\n",
    "                ekey = e[2]\n",
    "                wt = DG[u][v][ekey].get(weight,1)\n",
    "            else:\n",
    "                wt = DG[u][v].get(weight,1)\n",
    "        if oriented:\n",
    "            A[ui,ei] = -wt\n",
    "            A[vi,ei] = wt\n",
    "        else:\n",
    "            A[ui,ei] = wt\n",
    "            A[vi,ei] = wt\n",
    "    return np.asmatrix(A)"
   ]
  },
  {
   "cell_type": "code",
   "execution_count": 54,
   "metadata": {
    "collapsed": false,
    "scrolled": true
   },
   "outputs": [
    {
     "name": "stdout",
     "output_type": "stream",
     "text": [
      "[[ 1. -1.  0.  0.  0.  0.  0.  0.  0.  0.  0.  0.  0.  0.  0.  0.  0.  0.\n",
      "   0.  0.  0.  0.  0.  0.  0.  0.  0.  0.  0.  0.  0.  0.  0.  0.]\n",
      " [ 0.  0.  1. -1.  0.  0.  0.  0.  0.  0.  0.  0.  0.  0.  0.  0.  0.  0.\n",
      "   0.  0.  0.  0.  0.  0.  0.  0.  0.  0.  0.  0.  0.  0.  0.  0.]\n",
      " [ 0.  0.  0.  0.  1.  0. -1. -1.  0.  0.  0.  0.  0.  0.  0.  0.  0.  0.\n",
      "   0.  0.  0.  0.  0.  0.  0.  0.  0.  0.  0.  0.  0.  0.  0.  0.]\n",
      " [ 0.  0.  0.  0.  0.  0.  0.  0.  1.  1. -1. -1.  0.  0.  0.  0.  0.  0.\n",
      "   0.  0.  0.  0.  1.  0.  0.  0.  0.  0.  0. -1.  0.  0.  0.  0.]\n",
      " [ 0.  0.  0.  0.  0.  0.  0.  0.  0.  0.  0.  1.  0.  0.  0.  0.  0.  0.\n",
      "   0.  0.  0.  0.  0.  0.  0.  0.  0.  0.  1.  0.  0.  0.  0. -1.]\n",
      " [ 0.  0.  0.  0.  0.  0.  0.  0.  0.  0.  0.  0.  1. -1.  0.  0.  0.  0.\n",
      "   0.  0.  0.  0.  0.  0.  0.  0.  0.  0.  0.  0.  0.  0.  0.  0.]\n",
      " [ 0.  0.  0.  0.  0.  1.  1.  0.  0. -1.  0.  0. -1.  1. -1.  0.  1. -1.\n",
      "   0.  1.  0. -1.  0. -1.  0. -1.  0.  0.  0.  0.  0. -1.  0.  1.]\n",
      " [ 0.  0.  0.  0.  0.  0.  0.  0.  0.  0.  0.  0.  0.  0.  1. -1.  0.  0.\n",
      "   0.  0.  0.  0.  0.  0.  0.  0.  0.  0.  0.  0.  0.  0.  0.  0.]\n",
      " [ 0.  0.  0.  0.  0.  0.  0.  0.  0.  0.  0.  0.  0.  0.  0.  0. -1.  1.\n",
      "  -1.  0.  0.  0.  0.  0.  0.  0.  0.  0.  0.  0.  0.  0.  0.  0.]\n",
      " [ 0.  0.  0.  0.  0.  0.  0.  0.  0.  0.  0.  0.  0.  0.  0.  0.  0.  0.\n",
      "   0. -1.  1.  0.  0.  0.  0.  0.  0.  0.  0.  0.  0.  0.  0.  0.]\n",
      " [-1.  0. -1.  0. -1.  0.  0.  0. -1.  0.  0.  0.  0.  0.  0.  1.  0.  0.\n",
      "   0.  0.  0.  1.  0.  0.  0.  0.  0.  0.  0.  0.  0.  0.  0.  0.]\n",
      " [ 0.  0.  0.  0.  0.  0.  0.  0.  0.  0.  0.  0.  0.  0.  0.  0.  0.  0.\n",
      "   0.  0.  0.  0. -1.  1.  0.  0.  0.  0.  0.  0.  0.  0.  0.  0.]\n",
      " [ 0.  0.  0.  0.  0.  0.  0.  0.  0.  0.  0.  0.  0.  0.  0.  0.  0.  0.\n",
      "   0.  0.  0.  0.  0.  0. -1.  1.  0.  0.  0.  0.  0.  0. -1.  0.]\n",
      " [ 0.  0.  0.  0.  0.  0.  0.  0.  0.  0.  0.  0.  0.  0.  0.  0.  0.  0.\n",
      "   0.  0.  0.  0.  0.  0.  0.  0. -1.  1.  0.  0.  0.  0.  0.  0.]\n",
      " [ 0.  0.  0.  0.  0.  0.  0.  0.  0.  0.  0.  0.  0.  0.  0.  0.  0.  0.\n",
      "   0.  0.  0.  0.  0.  0.  0.  0.  0. -1.  0.  0. -1.  1.  0.  0.]\n",
      " [ 0.  0.  0.  0.  0.  0.  0.  0.  0.  0.  0.  0.  0.  0.  0.  0.  0.  0.\n",
      "   0.  0. -1.  0.  0.  0.  0.  0.  0.  0. -1.  0.  0.  0.  0.  0.]\n",
      " [ 0.  0.  0.  0.  0.  0.  0.  0.  0.  0.  1.  0.  0.  0.  0.  0.  0.  0.\n",
      "   0.  0.  0.  0.  0.  0.  0.  0.  0.  0.  0.  0.  0.  0.  0.  0.]\n",
      " [ 0.  0.  0.  0.  0.  0.  0.  0.  0.  0.  0.  0.  0.  0.  0.  0.  0.  0.\n",
      "   0.  0.  0.  0.  0.  0.  0.  0.  0.  0.  0.  1.  0.  0.  0.  0.]\n",
      " [ 0.  0.  0.  0.  0.  0.  0.  0.  0.  0.  0.  0.  0.  0.  0.  0.  0.  0.\n",
      "   0.  0.  0.  0.  0.  0.  0.  0.  0.  0.  0.  0.  1.  0.  0.  0.]\n",
      " [ 0.  1.  0.  1.  0.  0.  0.  1.  0.  0.  0.  0.  0.  0.  0.  0.  0.  0.\n",
      "   0.  0.  0.  0.  0.  0.  0.  0.  0.  0.  0.  0.  0.  0.  0.  0.]\n",
      " [ 0.  0.  0.  0.  0.  0.  0.  0.  0.  0.  0.  0.  0.  0.  0.  0.  0.  0.\n",
      "   1.  0.  0.  0.  0.  0.  1.  0.  1.  0.  0.  0.  0.  0.  0.  0.]\n",
      " [ 0.  0.  0.  0.  0. -1.  0.  0.  0.  0.  0.  0.  0.  0.  0.  0.  0.  0.\n",
      "   0.  0.  0.  0.  0.  0.  0.  0.  0.  0.  0.  0.  0.  0.  0.  0.]\n",
      " [ 0.  0.  0.  0.  0.  0.  0.  0.  0.  0.  0.  0.  0.  0.  0.  0.  0.  0.\n",
      "   0.  0.  0.  0.  0.  0.  0.  0.  0.  0.  0.  0.  0.  0.  1.  0.]]\n"
     ]
    }
   ],
   "source": [
    "A = incidence_matrix(\"A\")\n",
    "print(A)"
   ]
  },
  {
   "cell_type": "markdown",
   "metadata": {},
   "source": [
    "***PERFORM CONSISTENCY CHECK***"
   ]
  },
  {
   "cell_type": "code",
   "execution_count": 55,
   "metadata": {
    "collapsed": false
   },
   "outputs": [
    {
     "name": "stdout",
     "output_type": "stream",
     "text": [
      "[[  -3090]\n",
      " [   5140]\n",
      " [  33872]\n",
      " [  10328]\n",
      " [  15117]\n",
      " [  48415]\n",
      " [   7205]\n",
      " [    273]\n",
      " [    430]\n",
      " [   5545]\n",
      " [  59007]\n",
      " [  -2505]\n",
      " [ -88689]\n",
      " [  -4864]\n",
      " [ -37192]\n",
      " [-744984]\n",
      " [   2860]\n",
      " [ 412120]\n",
      " [ 124606]\n",
      " [  37450]\n",
      " [ 105588]\n",
      " [  -4486]\n",
      " [  17854]]\n"
     ]
    }
   ],
   "source": [
    "#derive vector x\n",
    "int_change = []\n",
    "for value in change:\n",
    "    int_change.append(int(value))\n",
    "    \n",
    "x = np.array(int_change).reshape(len(l_nodes), 1)\n",
    "print(x)"
   ]
  },
  {
   "cell_type": "code",
   "execution_count": 56,
   "metadata": {
    "collapsed": false
   },
   "outputs": [
    {
     "name": "stdout",
     "output_type": "stream",
     "text": [
      "[[ -3.09000000e+03]\n",
      " [  5.14000000e+03]\n",
      " [  3.38720000e+04]\n",
      " [  1.03280000e+04]\n",
      " [  1.51170000e+04]\n",
      " [  4.84150000e+04]\n",
      " [  7.20500000e+03]\n",
      " [  2.73000000e+02]\n",
      " [  4.30000000e+02]\n",
      " [  5.54500000e+03]\n",
      " [  5.90070000e+04]\n",
      " [ -2.50500000e+03]\n",
      " [ -8.86890000e+04]\n",
      " [ -4.86400000e+03]\n",
      " [ -3.71920000e+04]\n",
      " [ -7.44984000e+05]\n",
      " [  2.86000000e+03]\n",
      " [  4.12120000e+05]\n",
      " [  1.24606000e+05]\n",
      " [  3.74500000e+04]\n",
      " [  1.05588000e+05]\n",
      " [ -4.48600000e+03]\n",
      " [  1.78540000e+04]]\n"
     ]
    }
   ],
   "source": [
    "#check if Ay = x relationship holds\n",
    "Ay = incidence_matrix(\"A\")*y\n",
    "Ay.astype(int)\n",
    "print(Ay)"
   ]
  },
  {
   "cell_type": "code",
   "execution_count": 57,
   "metadata": {
    "collapsed": false
   },
   "outputs": [
    {
     "name": "stdout",
     "output_type": "stream",
     "text": [
      "[[ 0.]\n",
      " [ 0.]\n",
      " [ 0.]\n",
      " [ 0.]\n",
      " [ 0.]\n",
      " [ 0.]\n",
      " [ 0.]\n",
      " [ 0.]\n",
      " [ 0.]\n",
      " [ 0.]\n",
      " [ 0.]\n",
      " [ 0.]\n",
      " [ 0.]\n",
      " [ 0.]\n",
      " [ 0.]\n",
      " [ 0.]\n",
      " [ 0.]\n",
      " [ 0.]\n",
      " [ 0.]\n",
      " [ 0.]\n",
      " [ 0.]\n",
      " [ 0.]\n",
      " [ 0.]]\n"
     ]
    }
   ],
   "source": [
    "test = np.subtract(Ay, x)\n",
    "print(test)"
   ]
  }
 ],
 "metadata": {
  "anaconda-cloud": {},
  "kernelspec": {
   "display_name": "Python 3",
   "language": "python",
   "name": "python3"
  },
  "language_info": {
   "codemirror_mode": {
    "name": "ipython",
    "version": 3
   },
   "file_extension": ".py",
   "mimetype": "text/x-python",
   "name": "python",
   "nbconvert_exporter": "python",
   "pygments_lexer": "ipython3",
   "version": "3.6.0"
  }
 },
 "nbformat": 4,
 "nbformat_minor": 1
}
